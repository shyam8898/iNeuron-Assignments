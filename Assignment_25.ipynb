{
 "cells": [
  {
   "cell_type": "markdown",
   "id": "004f3b2e",
   "metadata": {},
   "source": [
    "Q1. What is the distinction between a numpy array and a pandas data frame? Is there a way to convert between the two if there is?\n",
    "- Numpy Ndarray provides a lot of convenient and optimized methods for performing several mathematical operations on vectors.\n",
    "- Pandas Dataframe is an in-memory 2-dimensional tabular representation of data. In simpler words, it can be seen as a spreadsheet having rows and columns.\n",
    "- Conversion : Dataframe=pandas.DataFrame(array)"
   ]
  },
  {
   "cell_type": "markdown",
   "id": "d43babc9",
   "metadata": {},
   "source": [
    "Q2) What can go wrong when an user enters in a stock-ticker symbol, and how do you handle it?\n",
    "- A ticker symbol is an abbreviation -- generally represented as a collection of letters -- that is used to identify a publicly traded security. Ticker symbols vary depending on what stock market they are traded on. They can consist of letters, numbers, or a combination of both. Sometimes they are also called \"stock symbols.\""
   ]
  },
  {
   "cell_type": "markdown",
   "id": "c6711071",
   "metadata": {},
   "source": [
    "Q3) Identify some of the plotting techniques that are used to produce a stock-market chart.\n",
    "- Bar chart, Line Chart are used for plotting."
   ]
  },
  {
   "cell_type": "markdown",
   "id": "719f67a5",
   "metadata": {},
   "source": [
    "Q4) Why is it essential to print a legend on a stock market chart?\n",
    "- Legend will help comparison between different stocks, so will be essential on a stock market chart"
   ]
  },
  {
   "cell_type": "markdown",
   "id": "cc2babe0",
   "metadata": {},
   "source": [
    "Q5) What is the best way to limit the length of a pandas data frame to less than a year?\n",
    "- We can use start and end parameters for that. In start we write the date from where we are starting and at the end we write the end date. SO within this span we can restric the duration.Also we can use the parameters like periods for how much times we need the duration and we can also use the frequency parameter."
   ]
  },
  {
   "cell_type": "markdown",
   "id": "d0db8d85",
   "metadata": {},
   "source": [
    "Q6) What is the definition of a 180-day moving average?\n",
    "- The 180-day moving average is represented as a line on charts and represents the average price over the past 180 days. The moving average can give traders a sense regarding whether the trend is up or down, while also identifying potential support or resistance areas."
   ]
  },
  {
   "cell_type": "markdown",
   "id": "4f109ca1",
   "metadata": {},
   "source": [
    "Q7) Did the chapter's final example use \"indirect\" importing? If so, how exactly do you do it?\n",
    "- Python does not reimport the module a second time (create a second instance of os), it only creates a pointer to the first instance that's loaded."
   ]
  },
  {
   "cell_type": "code",
   "execution_count": null,
   "id": "9f758441",
   "metadata": {},
   "outputs": [],
   "source": []
  }
 ],
 "metadata": {
  "kernelspec": {
   "display_name": "Python 3 (ipykernel)",
   "language": "python",
   "name": "python3"
  },
  "language_info": {
   "codemirror_mode": {
    "name": "ipython",
    "version": 3
   },
   "file_extension": ".py",
   "mimetype": "text/x-python",
   "name": "python",
   "nbconvert_exporter": "python",
   "pygments_lexer": "ipython3",
   "version": "3.9.7"
  }
 },
 "nbformat": 4,
 "nbformat_minor": 5
}
