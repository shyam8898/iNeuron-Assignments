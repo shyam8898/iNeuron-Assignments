{
 "cells": [
  {
   "cell_type": "markdown",
   "id": "5199dddc",
   "metadata": {},
   "source": [
    "Q13) Write an SQL query to show only odd rows from a table.\n",
    "- SELECT * FROM Worker WHERE MOD (WORKER_ID, 2) <> 0;"
   ]
  },
  {
   "cell_type": "markdown",
   "id": "4f7f5c6a",
   "metadata": {},
   "source": [
    "Q14) Write an SQL query to clone a new table from another table.\n",
    "\n",
    "- CREATE TABLE Contact List(Clone_1) LIKE Original_table;\n",
    "\n",
    "- CREATE TABLE Contact List(Clone_1) AS SELECT * FROM Original_table; \n",
    "                 OR\n",
    "- INSERT INTO Contact List(Clone_1) SELECT * FROM original_table;\n",
    "\n"
   ]
  },
  {
   "cell_type": "markdown",
   "id": "4acfa629",
   "metadata": {},
   "source": []
  }
 ],
 "metadata": {
  "kernelspec": {
   "display_name": "Python 3 (ipykernel)",
   "language": "python",
   "name": "python3"
  },
  "language_info": {
   "codemirror_mode": {
    "name": "ipython",
    "version": 3
   },
   "file_extension": ".py",
   "mimetype": "text/x-python",
   "name": "python",
   "nbconvert_exporter": "python",
   "pygments_lexer": "ipython3",
   "version": "3.9.7"
  }
 },
 "nbformat": 4,
 "nbformat_minor": 5
}
