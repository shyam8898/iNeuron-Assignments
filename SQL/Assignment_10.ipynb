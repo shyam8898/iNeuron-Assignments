{
 "cells": [
  {
   "cell_type": "markdown",
   "id": "69e197c8",
   "metadata": {},
   "source": [
    "Q-19) Write an SQL query to determine the 5th highest salary without using TOP or limit\n",
    "method.\n",
    "- SELECT Salary FROM Worker W1WHERE 4 = (SELECT COUNT( DISTINCT ( W2.Salary ) )FROM Worker W2 WHERE W2.Salary >= W1.Salary);\n",
    "\n",
    "or\n",
    "\n",
    "- SELECT MIN(EmpSalary) from (SELECT EmpSalary from Employee ORDER BY EmpSalary DESC LIMIT 5);"
   ]
  },
  {
   "cell_type": "markdown",
   "id": "c6c879cf",
   "metadata": {},
   "source": [
    "Q-20) Write an SQL query to fetch the list of employees with the same salary.\n",
    "- Select distinct W.WORKER_ID, W.FIRST_NAME, W.Salary from Worker W, Worker W1 where W.Salary = W1.Salary and W.WORKER_ID != W1.WORKER_ID;"
   ]
  },
  {
   "cell_type": "code",
   "execution_count": null,
   "id": "fa8afaa0",
   "metadata": {},
   "outputs": [],
   "source": []
  }
 ],
 "metadata": {
  "kernelspec": {
   "display_name": "Python 3 (ipykernel)",
   "language": "python",
   "name": "python3"
  },
  "language_info": {
   "codemirror_mode": {
    "name": "ipython",
    "version": 3
   },
   "file_extension": ".py",
   "mimetype": "text/x-python",
   "name": "python",
   "nbconvert_exporter": "python",
   "pygments_lexer": "ipython3",
   "version": "3.9.7"
  }
 },
 "nbformat": 4,
 "nbformat_minor": 5
}
