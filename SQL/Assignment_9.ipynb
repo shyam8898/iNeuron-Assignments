{
 "cells": [
  {
   "cell_type": "markdown",
   "id": "3e336d4a",
   "metadata": {},
   "source": [
    "Q-17) Write an SQL query to show the top n (say 10) records of a table.\n",
    "- SELECT * FROM Worker ORDER BY Salary DESC LIMIT 10;\n",
    "\n",
    "or\n",
    "\n",
    "- SELECT TOP 10 * FROM Worker ORDER BY Salary DESC;\n",
    "\n",
    "or\n",
    "\n",
    "-SELECT * FROM (SELECT * FROM Worker ORDER BY Salary DESC)\n",
    "WHERE ROWNUM <= 10;"
   ]
  },
  {
   "cell_type": "markdown",
   "id": "89e714eb",
   "metadata": {},
   "source": [
    "Q-18) Write an SQL query to determine the nth (say n=5) highest salary from a table.\n",
    "- SELECT Salary FROM Worker ORDER BY Salary DESC LIMIT n-1,1;\n",
    "\n",
    "or\n",
    "\n",
    "- SELECT TOP 1 Salary FROM (SELECT DISTINCT TOP n Salary FROM Worker ORDER BY Salary DESC) ORDER BY Salary ASC;"
   ]
  },
  {
   "cell_type": "code",
   "execution_count": null,
   "id": "028fa7d3",
   "metadata": {},
   "outputs": [],
   "source": []
  }
 ],
 "metadata": {
  "kernelspec": {
   "display_name": "Python 3 (ipykernel)",
   "language": "python",
   "name": "python3"
  },
  "language_info": {
   "codemirror_mode": {
    "name": "ipython",
    "version": 3
   },
   "file_extension": ".py",
   "mimetype": "text/x-python",
   "name": "python",
   "nbconvert_exporter": "python",
   "pygments_lexer": "ipython3",
   "version": "3.9.7"
  }
 },
 "nbformat": 4,
 "nbformat_minor": 5
}
