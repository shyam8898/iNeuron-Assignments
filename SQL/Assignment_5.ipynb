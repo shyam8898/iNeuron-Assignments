{
 "cells": [
  {
   "cell_type": "markdown",
   "id": "9b75312a",
   "metadata": {},
   "source": [
    "Q1) Write an SQL query to print details of workers excluding first names, “Vipul” and “Satish” from Worker table.\n",
    "- Select * from Worker where FIRST_NAME not in ('Vipul','Satish');"
   ]
  },
  {
   "cell_type": "markdown",
   "id": "bd5e9bb8",
   "metadata": {},
   "source": [
    "Q2) Write an SQL query to print details of the Workers whose FIRST_NAME ends with ‘h’ and contains six alphabets.\n",
    "- Select * from Worker where FIRST_NAME like '_____h';"
   ]
  },
  {
   "cell_type": "markdown",
   "id": "a6dabd5c",
   "metadata": {},
   "source": [
    "Q3) Write a query to validate Email of Employee.\n",
    "- SELECT * FROM Employee WHERE email NOT LIKE '%_@__%.__%'"
   ]
  },
  {
   "cell_type": "markdown",
   "id": "fe08d67b",
   "metadata": {},
   "source": []
  }
 ],
 "metadata": {
  "kernelspec": {
   "display_name": "Python 3 (ipykernel)",
   "language": "python",
   "name": "python3"
  },
  "language_info": {
   "codemirror_mode": {
    "name": "ipython",
    "version": 3
   },
   "file_extension": ".py",
   "mimetype": "text/x-python",
   "name": "python",
   "nbconvert_exporter": "python",
   "pygments_lexer": "ipython3",
   "version": "3.9.7"
  }
 },
 "nbformat": 4,
 "nbformat_minor": 5
}
