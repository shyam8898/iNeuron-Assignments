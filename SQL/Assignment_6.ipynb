{
 "cells": [
  {
   "cell_type": "markdown",
   "id": "a138493d",
   "metadata": {},
   "source": [
    "Q1) Write an SQL query to print details of the Workers who have joined in Feb’2014.\n",
    "- Select * from Worker where year(JOINING_DATE) = 2014 and month(JOINING_DATE) = 2;"
   ]
  },
  {
   "cell_type": "markdown",
   "id": "38998ea8",
   "metadata": {},
   "source": [
    "Q2) Write an SQL query to fetch duplicate records having matching data in some fields of a table.\n",
    "- SELECT WORKER_TITLE, AFFECTED_FROM, COUNT(*) FROM Title GROUP BY WORKER_TITLE, AFFECTED_FROM HAVING COUNT(*) > 1;"
   ]
  },
  {
   "cell_type": "markdown",
   "id": "0fe9e1d9",
   "metadata": {},
   "source": [
    "Q-3. How to remove duplicate rows from Employees table.\n",
    "- DELETE FROM Employees WHERE SN NOT IN (SELECT MAX(SN) FROM Employees GROUP BY EMPNAME,DEPT,CONTACTNO,CITY)"
   ]
  },
  {
   "cell_type": "code",
   "execution_count": null,
   "id": "90f4e8b8",
   "metadata": {},
   "outputs": [],
   "source": []
  }
 ],
 "metadata": {
  "kernelspec": {
   "display_name": "Python 3 (ipykernel)",
   "language": "python",
   "name": "python3"
  },
  "language_info": {
   "codemirror_mode": {
    "name": "ipython",
    "version": 3
   },
   "file_extension": ".py",
   "mimetype": "text/x-python",
   "name": "python",
   "nbconvert_exporter": "python",
   "pygments_lexer": "ipython3",
   "version": "3.9.7"
  }
 },
 "nbformat": 4,
 "nbformat_minor": 5
}
