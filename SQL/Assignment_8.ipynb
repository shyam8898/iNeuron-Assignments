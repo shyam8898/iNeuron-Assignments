{
 "cells": [
  {
   "cell_type": "markdown",
   "id": "d2793c90",
   "metadata": {},
   "source": [
    "Q-15) Write an SQL query to fetch intersecting records of two tables.\n",
    "- (SELECT * FROM Worker) INTERSECT (SELECT * FROM WorkerClone);"
   ]
  },
  {
   "cell_type": "markdown",
   "id": "b22e1bb0",
   "metadata": {},
   "source": [
    "Q-16) Write an SQL query to show records from one table that another table does not\n",
    "have.\n",
    "- SELECT name FROM table2 WHERE name NOT IN (SELECT name FROM table1)\n",
    "\n",
    "or\n",
    "\n",
    "- SELECT name FROM table2 WHERE NOT EXISTS (SELECT * FROM table1 WHERE table1.name = table2.name)"
   ]
  },
  {
   "cell_type": "code",
   "execution_count": null,
   "id": "7df5c8ad",
   "metadata": {},
   "outputs": [],
   "source": []
  }
 ],
 "metadata": {
  "kernelspec": {
   "display_name": "Python 3 (ipykernel)",
   "language": "python",
   "name": "python3"
  },
  "language_info": {
   "codemirror_mode": {
    "name": "ipython",
    "version": 3
   },
   "file_extension": ".py",
   "mimetype": "text/x-python",
   "name": "python",
   "nbconvert_exporter": "python",
   "pygments_lexer": "ipython3",
   "version": "3.9.7"
  }
 },
 "nbformat": 4,
 "nbformat_minor": 5
}
