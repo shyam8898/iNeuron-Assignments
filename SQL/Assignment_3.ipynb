{
 "cells": [
  {
   "cell_type": "markdown",
   "id": "5f888e4f",
   "metadata": {},
   "source": [
    "1) Write an SQL query to print the FIRST_NAME from Worker table after removing white spaces from the right side.\n",
    "- Select RTRIM(FIRST_NAME) from Worker;"
   ]
  },
  {
   "cell_type": "markdown",
   "id": "0f572c7a",
   "metadata": {},
   "source": [
    "2) Write an SQL query that fetches the unique values of DEPARTMENT from Worker table and prints its length.\n",
    "- Select distinct length(DEPARTMENT) from Worker;"
   ]
  },
  {
   "cell_type": "markdown",
   "id": "dd462191",
   "metadata": {},
   "source": [
    "3) Write an SQL query to fetch nth max salaries from a table.\n",
    "- SELECT distinct Salary from worker a WHERE n >= (SELECT count(distinct Salary) from worker b WHERE a.Salary <= b.Salary) order by a.Salary desc;"
   ]
  },
  {
   "cell_type": "code",
   "execution_count": null,
   "id": "1aae90da",
   "metadata": {},
   "outputs": [],
   "source": []
  }
 ],
 "metadata": {
  "kernelspec": {
   "display_name": "Python 3 (ipykernel)",
   "language": "python",
   "name": "python3"
  },
  "language_info": {
   "codemirror_mode": {
    "name": "ipython",
    "version": 3
   },
   "file_extension": ".py",
   "mimetype": "text/x-python",
   "name": "python",
   "nbconvert_exporter": "python",
   "pygments_lexer": "ipython3",
   "version": "3.9.7"
  }
 },
 "nbformat": 4,
 "nbformat_minor": 5
}
