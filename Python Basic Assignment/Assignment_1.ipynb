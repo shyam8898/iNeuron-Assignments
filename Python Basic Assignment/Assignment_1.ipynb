{
 "cells": [
  {
   "cell_type": "markdown",
   "id": "73a515a3",
   "metadata": {},
   "source": [
    "1. In the below elements which of them are values or an expression? eg:- values can be integer or string and expressions will be mathematical operators. * 'hello' -87.8 - / +\t6\n",
    "\n",
    "- Integer: 6(value), Float: -87.8(value), String: ‘hello’(value), mathematical operators: [*-/+] (expressions)\n"
   ]
  },
  {
   "cell_type": "markdown",
   "id": "54797b7b",
   "metadata": {},
   "source": [
    "2. What is the difference between string and variable?\n",
    "\n",
    "- Variables are symbols that you can use to store data in a program. Strings are data, so we can use them to fill up a variable.\n"
   ]
  },
  {
   "cell_type": "markdown",
   "id": "90c2903c",
   "metadata": {},
   "source": [
    "3. Describe three different data types.\n",
    "\n",
    "- Integer(int): It’s used for whole numbers. Eg. 7, 12, 999\n",
    "\n",
    "- Float (float): It’s used for Number with a decimal point. Eg. 3.15, 9.06, 00.13\n",
    "\n",
    "- Boolean (bool): It’s used for Representing logical values. Eg. True, False\n"
   ]
  },
  {
   "cell_type": "markdown",
   "id": "16a8bf8c",
   "metadata": {},
   "source": [
    "4. What is an expression made up of? What do all expressions do?\n",
    "\n",
    "- An expression is a combination of operators and operands that is interpreted to produce some other value. In any programming language, an expression is evaluated as per the precedence of its operators. So that if there is more than one operator in an expression, their precedence decides which operation will be performed first. We have many different types of expressions in Python.\n",
    "- Constant Expressions\n",
    "- Arithmetic Expressions\n",
    "- Integral Expressions\n",
    "- Floating Expressions\n",
    "- Relational Expressions\n",
    "- Logical Expressions\n",
    "- Bitwise Expressions\n",
    "- Combinational Expressions\n",
    "\n"
   ]
  },
  {
   "cell_type": "markdown",
   "id": "46c03af3",
   "metadata": {},
   "source": [
    "5. This assignment statements, like spam = 10. What is the difference between an expression and a statement?\n",
    "- Expression is made up of values, containers, and mathematical operators (operands) and the statement is just like a command that a python interpreter executes like print."
   ]
  },
  {
   "cell_type": "markdown",
   "id": "6f77de15",
   "metadata": {},
   "source": [
    "6. After running the following code, what does the variable bacon contain?\n",
    "\n",
    "bacon = 22\n",
    "\n",
    "bacon + 1\n",
    "\n",
    "- 23\n"
   ]
  },
  {
   "cell_type": "markdown",
   "id": "a42bdc4e",
   "metadata": {},
   "source": [
    "7. What should the values of the following two terms be?\n",
    "\n",
    "- 'spam' + 'spamspam'  =  'spamspamspam'\n",
    "- 'spam' * 3  =  'spamspamspam'"
   ]
  },
  {
   "cell_type": "markdown",
   "id": "a2fe8f68",
   "metadata": {},
   "source": [
    "8. Why is eggs a valid variable name while 100 is invalid?\n",
    "\n",
    "- Variable name can only start with underscore, alphabets and numbers(in between not at start). Variable name cannot start with numbers"
   ]
  },
  {
   "cell_type": "markdown",
   "id": "836a0be1",
   "metadata": {},
   "source": [
    "9. What three functions can be used to get the integer, floating-point number, or string version of a value?\n",
    "\n",
    "- int()\n",
    "- float()\n",
    "- str()"
   ]
  },
  {
   "cell_type": "markdown",
   "id": "ec8e29a1",
   "metadata": {},
   "source": [
    "10. Why does this expression cause an error? How can you fix it?\n",
    "\n",
    "'I have eaten ' + 99 + ' burritos.'\n",
    "\n",
    "- This will give TypeError after execution of the code.\n",
    "- Fix: 'I have eaten {} burritos.'.format(99)"
   ]
  },
  {
   "cell_type": "code",
   "execution_count": null,
   "id": "ea7680d8",
   "metadata": {},
   "outputs": [],
   "source": []
  }
 ],
 "metadata": {
  "kernelspec": {
   "display_name": "Python 3 (ipykernel)",
   "language": "python",
   "name": "python3"
  },
  "language_info": {
   "codemirror_mode": {
    "name": "ipython",
    "version": 3
   },
   "file_extension": ".py",
   "mimetype": "text/x-python",
   "name": "python",
   "nbconvert_exporter": "python",
   "pygments_lexer": "ipython3",
   "version": "3.9.7"
  }
 },
 "nbformat": 4,
 "nbformat_minor": 5
}
