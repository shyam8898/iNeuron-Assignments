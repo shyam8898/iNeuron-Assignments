{
 "cells": [
  {
   "cell_type": "markdown",
   "id": "9ad72b2e",
   "metadata": {},
   "source": [
    "1. What exactly is []?\n",
    "- It is a data type of list with no value inside "
   ]
  },
  {
   "cell_type": "markdown",
   "id": "e40621b9",
   "metadata": {},
   "source": [
    "2. In a list of values stored in a variable called spam, how would you assign the value 'hello' as the third value? (Assume [2, 4, 6, 8, 10] are in spam.)\n",
    "- spam = [2, 4, 6, 8, 10]\n",
    "- spam[2] = 'hello'\n"
   ]
  },
  {
   "cell_type": "markdown",
   "id": "9ab1c387",
   "metadata": {},
   "source": [
    "Let's pretend the spam includes the list ['a', 'b', 'c', 'd'] for the next three queries."
   ]
  },
  {
   "cell_type": "markdown",
   "id": "c2747a47",
   "metadata": {},
   "source": [
    "3. What is the value of spam[int(int('3' * 2) / 11)]?\n",
    "- int(int('3' * 2) / 11) = 3\n",
    "- spam[3] :- 'd' (At index 3 in spam list the value is 'd')"
   ]
  },
  {
   "cell_type": "markdown",
   "id": "13ca825a",
   "metadata": {},
   "source": [
    "4. What is the value of spam[-1]?\n",
    "- 'd' (last value)"
   ]
  },
  {
   "cell_type": "markdown",
   "id": "c706a4b2",
   "metadata": {},
   "source": [
    "5. What is the value of spam[:2]?\n",
    "- ['a', 'b']"
   ]
  },
  {
   "cell_type": "markdown",
   "id": "a6ac8c60",
   "metadata": {},
   "source": [
    "Let's pretend bacon has the list [3.14, 'cat', 11, 'cat', True] for the next three questions."
   ]
  },
  {
   "cell_type": "markdown",
   "id": "23298bfb",
   "metadata": {},
   "source": [
    "6. What is the value of bacon.index('cat')?\n",
    "- 1"
   ]
  },
  {
   "cell_type": "markdown",
   "id": "d824a333",
   "metadata": {},
   "source": [
    "7. How does bacon.append(99) change the look of the list value in bacon?\n",
    "- 99 will get added at the last position of list"
   ]
  },
  {
   "cell_type": "markdown",
   "id": "3eddbd4a",
   "metadata": {},
   "source": [
    "8. How does bacon.remove('cat') change the look of the list in bacon?\n",
    "- It will remove the value 'cat' from list of the first occurence"
   ]
  },
  {
   "cell_type": "markdown",
   "id": "33edb166",
   "metadata": {},
   "source": [
    "9. What are the list concatenation and list replication operators?\n",
    "- The operator for list concatenation is +, while the operator for replication is *"
   ]
  },
  {
   "cell_type": "markdown",
   "id": "73d17433",
   "metadata": {},
   "source": [
    "10. What is difference between the list methods append() and insert()?\n",
    "- append() will store the values at the end of the list\n",
    "- insert() will insert the value at the specified position/index"
   ]
  },
  {
   "cell_type": "markdown",
   "id": "7024e48a",
   "metadata": {},
   "source": [
    "11. What are the two methods for removing items from a list?\n",
    "- The methods are remove(), pop() and clear()"
   ]
  },
  {
   "cell_type": "markdown",
   "id": "d5d38378",
   "metadata": {},
   "source": [
    "12. Describe how list values and string values are identical.\n",
    "- The values that make up a list are called its elements. Lists are similar to strings, which are ordered collections of characters, except that the elements of a list can have any type and for any one list, the items can be of different types."
   ]
  },
  {
   "cell_type": "markdown",
   "id": "a19de66b",
   "metadata": {},
   "source": [
    "13. What's the difference between tuples and lists?\n",
    "- Lists are mutable data types i.e. we can make changes in list in the same memory location\n",
    "- Tuples are immutable data types i.e. we cannot make changes in tuples once values are assigned"
   ]
  },
  {
   "cell_type": "markdown",
   "id": "aa6025c6",
   "metadata": {},
   "source": [
    "14. How do you type a tuple value that only contains the integer 42?\n",
    "- tup=42,"
   ]
  },
  {
   "cell_type": "markdown",
   "id": "c3fe7bc8",
   "metadata": {},
   "source": [
    "15. How do you get a list value's tuple form? How do you get a tuple value's list form?\n",
    "- List value can be coverted to tuple using tuple(). Inside tuple() we pass list as parameter\n",
    "- Tuple value can be coverted to list using list(). Inside list() we pass tuple as parameter"
   ]
  },
  {
   "cell_type": "markdown",
   "id": "4765e035",
   "metadata": {},
   "source": [
    "16. Variables that \"contain\" list values are not necessarily lists themselves. Instead, what do they contain?\n",
    "- Variables will contain references to list values rather than list values themselves. But for strings and integer values, variables simply contain the string or integer value."
   ]
  },
  {
   "cell_type": "markdown",
   "id": "b46dd07c",
   "metadata": {},
   "source": [
    "17. How do you distinguish between copy.copy() and copy.deepcopy()?\n",
    "- Using copy.copy(), the change made in the list will effect in other list as well, indicating the list is shallow copied.\n",
    "- Using copy.deepcopy(), the change made in the list will not effect in other list, indicating the list is deep copied."
   ]
  },
  {
   "cell_type": "code",
   "execution_count": null,
   "id": "aafda407",
   "metadata": {},
   "outputs": [],
   "source": []
  }
 ],
 "metadata": {
  "kernelspec": {
   "display_name": "Python 3 (ipykernel)",
   "language": "python",
   "name": "python3"
  },
  "language_info": {
   "codemirror_mode": {
    "name": "ipython",
    "version": 3
   },
   "file_extension": ".py",
   "mimetype": "text/x-python",
   "name": "python",
   "nbconvert_exporter": "python",
   "pygments_lexer": "ipython3",
   "version": "3.9.7"
  }
 },
 "nbformat": 4,
 "nbformat_minor": 5
}
