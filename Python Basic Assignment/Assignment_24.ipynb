{
 "cells": [
  {
   "cell_type": "markdown",
   "id": "ad6c4d7c",
   "metadata": {},
   "source": [
    "1) What is the relationship between def statements and lambda expressions ?\n",
    "- The only difference is that\n",
    "\n",
    "(a) the body of a lambda can consist of only a single expression, the result of which is returned from the function created \n",
    "\n",
    "(b) a lambda expression is an expression which evaluates to a function object, while a def statement has no value, and creates a function object and binds it to a name."
   ]
  },
  {
   "cell_type": "markdown",
   "id": "55d26109",
   "metadata": {},
   "source": [
    "2) What is the benefit of lambda?\n",
    "- The lambda keyword in Python provides a shortcut for declaring small anonymous functions. Lambda functions behave just like regular functions declared with the def keyword. They can be used whenever function objects are required"
   ]
  },
  {
   "cell_type": "markdown",
   "id": "3c23c425",
   "metadata": {},
   "source": [
    "3) Compare and contrast map, filter, and reduce.\n",
    "- The map() function iterates through all items in the given iterable and executes the function we passed as an argument on each of them.\n",
    "- The syntax is: map(function, iterable(s))\n",
    "- As the name suggests, filter() forms a new list that contains only elements that satisfy a certain condition, i.e. the function we passed returns True.\n",
    "- The syntax is: filter(function, iterable(s))\n",
    "- reduce() works differently than map() and filter(). It does not return a new list based on the function and iterable we've passed. Instead, it returns a single value.\n",
    "- Also, in Python 3 reduce() isn't a built-in function anymore, and it can be found in the functools module.\n",
    "- The syntax is: reduce(function, sequence[, initial])"
   ]
  },
  {
   "cell_type": "markdown",
   "id": "398d9415",
   "metadata": {},
   "source": [
    "4) What are function annotations, and how are they used?\n",
    "- Function annotations are completely optional both for parameters and return value. Function annotations provide a way of associating various parts of a function with arbitrary python expressions at compile time. The PEP-3107 makes no attempt to introduce any kind of standard semantics, even for the built-in types."
   ]
  },
  {
   "cell_type": "markdown",
   "id": "9f0d3e58",
   "metadata": {},
   "source": [
    "5. What are recursive functions, and how are they used?\n",
    "- A recursive function is a function that calls itself during its execution. The process may repeat several times, outputting the result and the end of each iteration.\n",
    "- The function Count() below uses recursion to count from any number between 1 and 9, to the number 10. For example, Count(1) would return 2,3,4,5,6,7,8,9,10. Count(7) would return 8,9,10. The result could be used as a roundabout way to subtract the number from 10.\n",
    "\n",
    "function Count (integer N)\n",
    "\n",
    "    if (N <= 0) return \"Must be a Positive Integer\";\n",
    "    \n",
    "    if (N > 9) return \"Counting Completed\";\n",
    "    \n",
    "    else return Count (N+1);\n",
    "    \n",
    "end function"
   ]
  },
  {
   "cell_type": "markdown",
   "id": "3e23778c",
   "metadata": {},
   "source": [
    "6) What are some general design guidelines for coding functions?\n",
    "\n",
    "Some of the coding standards are given below:\n",
    "- Limited use of globals\n",
    "- Standard headers for different modules\n",
    "- Naming conventions for local variables, global variables, constants and functions:\n",
    "- Proper indentation is very important to increase the readability of the code. \n",
    "- Error return values and exception handling conventions\n",
    "- Avoid using a coding style that is too difficult to understand\n",
    "- Avoid using an identifier for multiple purposes\n",
    "- Code should be well documented\n",
    "- Length of functions should not be very large\n",
    "- Try not to use GOTO statement\n",
    "\n",
    "Advantages of Coding Guidelines:\n",
    "- Coding guidelines increase the efficiency of the software and reduces the development time.\n",
    "- Coding guidelines help in detecting errors in the early phases, so it helps to reduce the extra cost incurred by the software project.\n",
    "- If coding guidelines are maintained properly, then the software code increases readability and understandability thus it reduces the complexity of the code.\n",
    "- It reduces the hidden cost for developing the software."
   ]
  },
  {
   "cell_type": "markdown",
   "id": "0fdaaa65",
   "metadata": {},
   "source": [
    "7) Name three or more ways that functions can communicate results to a caller.\n",
    "- Some of the ways in which a function can communicate with the calling function is:\n",
    "\n",
    "print\n",
    "\n",
    "return\n",
    "\n",
    "yield"
   ]
  },
  {
   "cell_type": "markdown",
   "id": "ebb65564",
   "metadata": {},
   "source": []
  }
 ],
 "metadata": {
  "kernelspec": {
   "display_name": "Python 3 (ipykernel)",
   "language": "python",
   "name": "python3"
  },
  "language_info": {
   "codemirror_mode": {
    "name": "ipython",
    "version": 3
   },
   "file_extension": ".py",
   "mimetype": "text/x-python",
   "name": "python",
   "nbconvert_exporter": "python",
   "pygments_lexer": "ipython3",
   "version": "3.9.7"
  }
 },
 "nbformat": 4,
 "nbformat_minor": 5
}
