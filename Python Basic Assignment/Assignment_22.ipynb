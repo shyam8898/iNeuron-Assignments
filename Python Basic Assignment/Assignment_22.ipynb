{
 "cells": [
  {
   "cell_type": "markdown",
   "id": "44bd000f",
   "metadata": {},
   "source": [
    "1. What is the result of the code, and explain?"
   ]
  },
  {
   "cell_type": "code",
   "execution_count": 2,
   "id": "b9251ca4",
   "metadata": {},
   "outputs": [
    {
     "name": "stdout",
     "output_type": "stream",
     "text": [
      "iNeuron\n"
     ]
    }
   ],
   "source": [
    "X = 'iNeuron'\n",
    "def func():\n",
    "    print(X)\n",
    "\n",
    "func()"
   ]
  },
  {
   "cell_type": "markdown",
   "id": "e315f332",
   "metadata": {},
   "source": [
    "- It's just printing value of X via func"
   ]
  },
  {
   "cell_type": "markdown",
   "id": "d7f51c19",
   "metadata": {},
   "source": [
    "2. What is the result of the code, and explain?"
   ]
  },
  {
   "cell_type": "code",
   "execution_count": 3,
   "id": "5c419f28",
   "metadata": {},
   "outputs": [
    {
     "name": "stdout",
     "output_type": "stream",
     "text": [
      "iNeuron\n"
     ]
    }
   ],
   "source": [
    "X = 'iNeuron'\n",
    "\n",
    "def func():\n",
    "    X = 'NI!'\n",
    "\n",
    "func()\n",
    "print(X)"
   ]
  },
  {
   "cell_type": "markdown",
   "id": "2fc85c79",
   "metadata": {},
   "source": [
    "- Here the value of X is getting printed which is global variable. The X which is defined in func is a local variable."
   ]
  },
  {
   "cell_type": "markdown",
   "id": "66e31427",
   "metadata": {},
   "source": [
    "3. What does this code print, and why?"
   ]
  },
  {
   "cell_type": "code",
   "execution_count": 4,
   "id": "83a8af68",
   "metadata": {},
   "outputs": [
    {
     "name": "stdout",
     "output_type": "stream",
     "text": [
      "NI\n",
      "iNeuron\n"
     ]
    }
   ],
   "source": [
    "X = 'iNeuron'\n",
    "\n",
    "def func():\n",
    "    X = 'NI'\n",
    "    print(X)\n",
    "\n",
    "func()\n",
    "print(X)"
   ]
  },
  {
   "cell_type": "markdown",
   "id": "27b833e2",
   "metadata": {},
   "source": [
    "- First it will the value of X='NI' which a local variable, then it will print the value of global variable X"
   ]
  },
  {
   "cell_type": "markdown",
   "id": "e0916249",
   "metadata": {},
   "source": [
    "4. What output does this code produce? Why?"
   ]
  },
  {
   "cell_type": "code",
   "execution_count": 5,
   "id": "b9b25925",
   "metadata": {},
   "outputs": [
    {
     "name": "stdout",
     "output_type": "stream",
     "text": [
      "NI\n"
     ]
    }
   ],
   "source": [
    "X = 'iNeuron'\n",
    "def func():\n",
    "    global X\n",
    "    X = 'NI'\n",
    "\n",
    "\n",
    "func()\n",
    "print(X)"
   ]
  },
  {
   "cell_type": "markdown",
   "id": "c0c9b5d1",
   "metadata": {},
   "source": [
    "- Here the ouput is NI as inside function we have use keyword called global which will effect the value of outside the func as well hence the output is 'NI' as it has overwritten the value which was assigned outside the func"
   ]
  },
  {
   "cell_type": "markdown",
   "id": "fe83d49b",
   "metadata": {},
   "source": [
    "5. What about this code—what’s the output, and why?"
   ]
  },
  {
   "cell_type": "code",
   "execution_count": 18,
   "id": "d1288ae2",
   "metadata": {},
   "outputs": [
    {
     "name": "stdout",
     "output_type": "stream",
     "text": [
      "NI\n"
     ]
    },
    {
     "data": {
      "text/plain": [
       "'iNeuron'"
      ]
     },
     "execution_count": 18,
     "metadata": {},
     "output_type": "execute_result"
    }
   ],
   "source": [
    "X = 'iNeuron'\n",
    "\n",
    "def func():\n",
    "    X = 'NI'\n",
    "    def nested():\n",
    "        print(X)\n",
    "    nested()\n",
    "    \n",
    "func()\n",
    "X"
   ]
  },
  {
   "cell_type": "markdown",
   "id": "2a24d4ba",
   "metadata": {},
   "source": [
    "- Here in nested function the global variable X is called which will print its value and inside func the variable is local so over there we did not use print statement so func will not print anything and lastly the value of X will get printed"
   ]
  },
  {
   "cell_type": "markdown",
   "id": "61c62c33",
   "metadata": {},
   "source": [
    "6. How about this code: what is its output in Python 3, and explain?"
   ]
  },
  {
   "cell_type": "code",
   "execution_count": 21,
   "id": "31d08f7d",
   "metadata": {},
   "outputs": [
    {
     "name": "stdout",
     "output_type": "stream",
     "text": [
      "Spam\n"
     ]
    }
   ],
   "source": [
    "def func():\n",
    "    X = 'NI'\n",
    "    def nested():\n",
    "        nonlocal X\n",
    "        X = 'Spam'\n",
    "    nested()\n",
    "    print(X)\n",
    "\n",
    "func()"
   ]
  },
  {
   "cell_type": "markdown",
   "id": "e47fa053",
   "metadata": {},
   "source": [
    "- Here the value of X is overwritten in nested function by using keyword nonlocal hence the output is spam"
   ]
  },
  {
   "cell_type": "code",
   "execution_count": null,
   "id": "8cb6970b",
   "metadata": {},
   "outputs": [],
   "source": []
  }
 ],
 "metadata": {
  "kernelspec": {
   "display_name": "Python 3 (ipykernel)",
   "language": "python",
   "name": "python3"
  },
  "language_info": {
   "codemirror_mode": {
    "name": "ipython",
    "version": 3
   },
   "file_extension": ".py",
   "mimetype": "text/x-python",
   "name": "python",
   "nbconvert_exporter": "python",
   "pygments_lexer": "ipython3",
   "version": "3.9.7"
  }
 },
 "nbformat": 4,
 "nbformat_minor": 5
}
