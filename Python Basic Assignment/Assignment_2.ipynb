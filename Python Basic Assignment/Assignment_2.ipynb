{
 "cells": [
  {
   "cell_type": "markdown",
   "id": "02b3bc52",
   "metadata": {},
   "source": [
    "1. What are the two values of the Boolean data type? How do you write them?\n",
    "\n",
    "- True\n",
    "- False"
   ]
  },
  {
   "cell_type": "markdown",
   "id": "1363b472",
   "metadata": {},
   "source": [
    "2. What are the three different types of Boolean operators?\n",
    "\n",
    "- and\n",
    "- or \n",
    "- not"
   ]
  },
  {
   "cell_type": "markdown",
   "id": "72172047",
   "metadata": {},
   "source": [
    "3. Make a list of each Boolean operator's truth tables (i.e. every possible combination of Boolean values for the operator and what it evaluate ).\n"
   ]
  },
  {
   "cell_type": "code",
   "execution_count": 5,
   "id": "255d5edf",
   "metadata": {},
   "outputs": [
    {
     "data": {
      "text/html": [
       "<div>\n",
       "<style scoped>\n",
       "    .dataframe tbody tr th:only-of-type {\n",
       "        vertical-align: middle;\n",
       "    }\n",
       "\n",
       "    .dataframe tbody tr th {\n",
       "        vertical-align: top;\n",
       "    }\n",
       "\n",
       "    .dataframe thead th {\n",
       "        text-align: right;\n",
       "    }\n",
       "</style>\n",
       "<table border=\"1\" class=\"dataframe\">\n",
       "  <thead>\n",
       "    <tr style=\"text-align: right;\">\n",
       "      <th></th>\n",
       "      <th>X</th>\n",
       "      <th>Y</th>\n",
       "      <th>NOT X( ~ X )</th>\n",
       "      <th>X AND Y( X &amp;&amp; Y )</th>\n",
       "      <th>X OR Y( X || Y )</th>\n",
       "    </tr>\n",
       "  </thead>\n",
       "  <tbody>\n",
       "    <tr>\n",
       "      <th>0</th>\n",
       "      <td>False</td>\n",
       "      <td>False</td>\n",
       "      <td>True</td>\n",
       "      <td>False</td>\n",
       "      <td>False</td>\n",
       "    </tr>\n",
       "    <tr>\n",
       "      <th>1</th>\n",
       "      <td>False</td>\n",
       "      <td>True</td>\n",
       "      <td>True</td>\n",
       "      <td>False</td>\n",
       "      <td>True</td>\n",
       "    </tr>\n",
       "    <tr>\n",
       "      <th>2</th>\n",
       "      <td>True</td>\n",
       "      <td>False</td>\n",
       "      <td>False</td>\n",
       "      <td>False</td>\n",
       "      <td>True</td>\n",
       "    </tr>\n",
       "    <tr>\n",
       "      <th>3</th>\n",
       "      <td>True</td>\n",
       "      <td>True</td>\n",
       "      <td>False</td>\n",
       "      <td>True</td>\n",
       "      <td>True</td>\n",
       "    </tr>\n",
       "  </tbody>\n",
       "</table>\n",
       "</div>"
      ],
      "text/plain": [
       "       X      Y  NOT X( ~ X )  X AND Y( X && Y )  X OR Y( X || Y )\n",
       "0  False  False          True              False             False\n",
       "1  False   True          True              False              True\n",
       "2   True  False         False              False              True\n",
       "3   True   True         False               True              True"
      ]
     },
     "execution_count": 5,
     "metadata": {},
     "output_type": "execute_result"
    }
   ],
   "source": [
    "import pandas as pd\n",
    "d = {\"X\": [False,False,True,True],\n",
    "     \"Y\": [False,True,False,True],\n",
    "     \"NOT X( ~ X )\": [True,True,False,False],\n",
    "     \"X AND Y( X && Y )\": [False,False,False,True],\n",
    "     \"X OR Y( X || Y )\": [False,True,True,True]\n",
    "    }\n",
    "pd.DataFrame(d)"
   ]
  },
  {
   "cell_type": "markdown",
   "id": "0e715482",
   "metadata": {},
   "source": [
    "4. What are the values of the following expressions?\n",
    "\n",
    "- (5 > 4) and (3 == 5) : False\n",
    "- not (5 > 4) : False\n",
    "- (5 > 4) or (3 == 5) : True\n",
    "- not ((5 > 4) or (3 == 5)) : False\n",
    "- (True and True) and (True == False) : False\n",
    "- (not False) or (not True) : True\n"
   ]
  },
  {
   "cell_type": "markdown",
   "id": "806ec996",
   "metadata": {},
   "source": [
    "5. What are the six comparison operators?\n",
    "\n",
    "There are six main comparison operators:\n",
    "- equal to\n",
    "- not equal to \n",
    "- greater than\n",
    "- greater than or equal to\n",
    "- less than\n",
    "- less than or equal to."
   ]
  },
  {
   "cell_type": "markdown",
   "id": "3c2da0cb",
   "metadata": {},
   "source": [
    "6. How do you tell the difference between the equal to and assignment operators?\n",
    "Describe a condition and when you would use one.\n",
    "\n",
    "- Assignment operator is used when we declare a variable and assign value to it  eg. a='hello', b=7\n",
    "- Equal to operator is used when we check conditions to be True or False  eg. 'hello'=='hello', 7==7\n"
   ]
  },
  {
   "cell_type": "markdown",
   "id": "954d452e",
   "metadata": {},
   "source": [
    "7. Identify the three blocks in this code:\n",
    "\n",
    "spam = 0\n",
    "if spam == 10:\n",
    "    print('eggs')       \n",
    "    if spam > 5:         \n",
    "        print('bacon')  \n",
    "    else:               \n",
    "        print('ham')     \n",
    "    print('spam')      \n",
    "print('spam') "
   ]
  },
  {
   "cell_type": "code",
   "execution_count": null,
   "id": "5d0ca5e0",
   "metadata": {},
   "outputs": [],
   "source": [
    "spam = 0\n",
    "if spam == 10:\n",
    "    print('eggs')        # indent increased, block A\n",
    "    if spam > 5:         # still block A\n",
    "        print('bacon')   # still block A, indent increased, block B inside block A\n",
    "    else:                # still block A, indent decreased, block B ended in line above\n",
    "        print('ham')     # still block A, indent increased, block C inside block A\n",
    "    print('spam')        # still block A, indent decreased, block C ended in line above\n",
    "print('spam')            # indent decreased, block A ended in line above"
   ]
  },
  {
   "cell_type": "markdown",
   "id": "d7257d01",
   "metadata": {},
   "source": [
    "8. Write code that prints Hello if 1 is stored in spam, prints Howdy if 2 is stored in spam, and prints Greetings! if anything else is stored in spam."
   ]
  },
  {
   "cell_type": "code",
   "execution_count": null,
   "id": "a64d5281",
   "metadata": {},
   "outputs": [],
   "source": [
    "spam=input(\"Enter a number \")\n",
    "\n",
    "if spam=='1':\n",
    "    print('Hello')\n",
    "elif spam=='2':\n",
    "    print('Howdy')\n",
    "else:\n",
    "    print('Greetings')"
   ]
  },
  {
   "cell_type": "markdown",
   "id": "dc09cb96",
   "metadata": {},
   "source": [
    "9. If your programme is stuck in an endless loop, what keys you’ll press?\n",
    "-  Ctrl + C"
   ]
  },
  {
   "cell_type": "markdown",
   "id": "8d9fd2d2",
   "metadata": {},
   "source": [
    "10. How can you tell the difference between break and continue?\n",
    "\n",
    "Break Statement : \n",
    "- The Break statement is used to exit from the loop constructs.\n",
    "- When a break statement is encountered then the control is exited from the loop construct immediately.\n",
    "- Syntax : break\n",
    "\n",
    "Continue Statement : \n",
    "- The continue statement is not used to exit from the loop constructs.\n",
    "- When the continue statement is encountered then the control automatically passed from the beginning of the loop statement.\n",
    "- Syntax : continue\n"
   ]
  },
  {
   "cell_type": "markdown",
   "id": "e005974a",
   "metadata": {},
   "source": [
    "11. In a for loop, what is the difference between range(10), range(0, 10), and range(0, 10, 1)?\n",
    "\n",
    "- In range, start number is included, End number is exclued and step is used to specifying the incrementation\n",
    "- range(10) will give integers from 0 to 9.\n",
    "- range(0, 10) will also give integers from 0 to 9.\n",
    "- range(0, 10, 1) will also give integers from 0 to 9."
   ]
  },
  {
   "cell_type": "markdown",
   "id": "badef462",
   "metadata": {},
   "source": [
    "12. Write a short program that prints the numbers 1 to 10 using a for loop.\n",
    "Then write an equivalent program that prints the numbers 1 to 10 using a while loop.\n"
   ]
  },
  {
   "cell_type": "code",
   "execution_count": null,
   "id": "3c43bfec",
   "metadata": {},
   "outputs": [],
   "source": [
    "#1\n",
    "[i for i in range(1,11)]\n",
    "\n",
    "#2 \n",
    "i=0\n",
    "while i<10:\n",
    "    i=i+1\n",
    "    print(i)"
   ]
  },
  {
   "cell_type": "markdown",
   "id": "4ff0e4a5",
   "metadata": {},
   "source": [
    "13. If you had a function named bacon() inside a module named spam, how would you call it after importing spam?\n",
    "- from spam import bacon"
   ]
  },
  {
   "cell_type": "code",
   "execution_count": null,
   "id": "31d5e3c1",
   "metadata": {},
   "outputs": [],
   "source": []
  }
 ],
 "metadata": {
  "kernelspec": {
   "display_name": "Python 3 (ipykernel)",
   "language": "python",
   "name": "python3"
  },
  "language_info": {
   "codemirror_mode": {
    "name": "ipython",
    "version": 3
   },
   "file_extension": ".py",
   "mimetype": "text/x-python",
   "name": "python",
   "nbconvert_exporter": "python",
   "pygments_lexer": "ipython3",
   "version": "3.9.7"
  }
 },
 "nbformat": 4,
 "nbformat_minor": 5
}
