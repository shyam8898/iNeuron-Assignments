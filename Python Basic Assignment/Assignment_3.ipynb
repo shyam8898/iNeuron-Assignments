{
 "cells": [
  {
   "cell_type": "markdown",
   "id": "e81dfc9a",
   "metadata": {},
   "source": [
    "1. Why are functions advantageous to have in your programs?\n",
    "-  Functions reduce the need for duplicate code. This makes programs shorter, easier to read, and easier to update. We can reuse functions wherever requires same code"
   ]
  },
  {
   "cell_type": "markdown",
   "id": "9108446d",
   "metadata": {},
   "source": [
    "2. When does the code in a function run: when it's specified or when it's called?\n",
    "- When we call a function then the entire code runs whatever is written inside the function\n",
    "- To call a function we use syntax: func_name()"
   ]
  },
  {
   "cell_type": "markdown",
   "id": "527040f1",
   "metadata": {},
   "source": [
    "3. What statement creates a function?\n",
    "- def keyword creates a function"
   ]
  },
  {
   "cell_type": "markdown",
   "id": "6f161281",
   "metadata": {},
   "source": [
    "4. What is the difference between a function and a function call?\n",
    "- A function is set of codes where we can reuse it whenever it is required.\n",
    "- By calling a function it executes the code which is written inside the function"
   ]
  },
  {
   "cell_type": "markdown",
   "id": "09c1c081",
   "metadata": {},
   "source": [
    "5. How many global scopes are there in a Python program? How many local scopes?\n",
    "- There’s only one global Python scope. The Variable which can be read from anywhere in the program is known as a global scope. These variables can be accessed inside and outside the function. \n",
    "- There’s only one local Python scope. The Variables which are defined in the function are a local scope of the variable. These variables are defined in the function body"
   ]
  },
  {
   "cell_type": "markdown",
   "id": "0fe8bd59",
   "metadata": {},
   "source": [
    "6. What happens to variables in a local scope when the function call returns?\n",
    "- when the function call returns, the local variables are destroyed."
   ]
  },
  {
   "cell_type": "markdown",
   "id": "e4cbd996",
   "metadata": {},
   "source": [
    "7. What is the concept of a return value? Is it possible to have a return value in an expression?\n",
    "- A return statement is used to end the execution of the function call and “returns” the result (value of the expression following the return keyword) to the caller.\n",
    "- Yes, it is possible to have a return value in an expression."
   ]
  },
  {
   "cell_type": "markdown",
   "id": "ac76ae49",
   "metadata": {},
   "source": [
    "8. If a function does not have a return statement, what is the return value of a call to that function?\n",
    "- If a function doesn't specify a return value, it returns None "
   ]
  },
  {
   "cell_type": "markdown",
   "id": "27b3b9d6",
   "metadata": {},
   "source": [
    "9. How do you make a function variable refer to the global variable?\n",
    "- we can use the global keyword to declare which variables are global inside a function"
   ]
  },
  {
   "cell_type": "markdown",
   "id": "216921f7",
   "metadata": {},
   "source": [
    "10. What is the data type of None?\n",
    "- None is a data type of its own (NoneType)"
   ]
  },
  {
   "cell_type": "markdown",
   "id": "bf05b56a",
   "metadata": {},
   "source": [
    "11. What does the sentence import areallyourpetsnamederic do?\n",
    "- It is use to import a module named areallyourpetsnamederic. So that we can access all the data available inside module."
   ]
  },
  {
   "cell_type": "markdown",
   "id": "f5179df5",
   "metadata": {},
   "source": [
    "12. If you had a bacon() feature in a spam module, what would you call it after importing spam?\n",
    "- spam.bacon()"
   ]
  },
  {
   "cell_type": "markdown",
   "id": "b6a5a219",
   "metadata": {},
   "source": [
    "13. What can you do to save a programme from crashing if it encounters an error?\n",
    "- Error handling can be used to notify the user of why the error occurred and gracefully exit the process that caused the error."
   ]
  },
  {
   "cell_type": "markdown",
   "id": "4f0662b4",
   "metadata": {},
   "source": [
    "14. What is the purpose of the try clause? What is the purpose of the except clause?\n",
    "- The try block lets you test a block of code for errors. The except block lets you handle the error."
   ]
  },
  {
   "cell_type": "code",
   "execution_count": null,
   "id": "683887a3",
   "metadata": {},
   "outputs": [],
   "source": []
  }
 ],
 "metadata": {
  "kernelspec": {
   "display_name": "Python 3 (ipykernel)",
   "language": "python",
   "name": "python3"
  },
  "language_info": {
   "codemirror_mode": {
    "name": "ipython",
    "version": 3
   },
   "file_extension": ".py",
   "mimetype": "text/x-python",
   "name": "python",
   "nbconvert_exporter": "python",
   "pygments_lexer": "ipython3",
   "version": "3.9.7"
  }
 },
 "nbformat": 4,
 "nbformat_minor": 5
}
