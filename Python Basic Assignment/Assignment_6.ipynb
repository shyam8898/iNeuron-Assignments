{
 "cells": [
  {
   "cell_type": "markdown",
   "id": "11604e56",
   "metadata": {},
   "source": [
    "1. What are escape characters, and how do you use them?\n",
    "- An escape character is a backslash \\ followed by the character you want to insert\n",
    "- To insert characters that are illegal in a string, use an escape character."
   ]
  },
  {
   "cell_type": "markdown",
   "id": "ad8bee63",
   "metadata": {},
   "source": [
    "2. What do the escape characters n and t stand for?\n",
    "- \\n\tNew Line\n",
    "- \\t\tTab"
   ]
  },
  {
   "cell_type": "markdown",
   "id": "fd8476b8",
   "metadata": {},
   "source": [
    "3. What is the way to include backslash characters in a string?\n",
    "- Double Backslash\n",
    "-  \\\\\\"
   ]
  },
  {
   "cell_type": "markdown",
   "id": "ab73e79e",
   "metadata": {},
   "source": [
    "4. The string \"Howl's Moving Castle\" is a correct value. Why isn't the single quote character in the word Howl's not escaped a problem?\n",
    "- The single quote in Howl's is fine because you’ve used double quotes to mark the beginning and end of the string."
   ]
  },
  {
   "cell_type": "markdown",
   "id": "8098422d",
   "metadata": {},
   "source": [
    "5. How do you write a string of newlines if you don't want to use the n character?\n",
    "- We can use tripple single/double quotes if we don't want to use the n character"
   ]
  },
  {
   "cell_type": "markdown",
   "id": "34eed0b6",
   "metadata": {},
   "source": [
    "6. What are the values of the given expressions?\n",
    "- 'Hello, world!'[1] = 'e'\n",
    "- 'Hello, world!'[0:5] = 'Hello'\n",
    "- 'Hello, world!'[:5] = 'Hello'\n",
    "- 'Hello, world!'[3:] = 'lo, world!'\n"
   ]
  },
  {
   "cell_type": "markdown",
   "id": "f2abc9ac",
   "metadata": {},
   "source": [
    "7. What are the values of the following expressions?\n",
    "- 'Hello'.upper() = 'HELLO'\n",
    "- 'Hello'.upper().isupper() = True\n",
    "- 'Hello'.upper().lower() = 'hello'\n"
   ]
  },
  {
   "cell_type": "markdown",
   "id": "8f863d38",
   "metadata": {},
   "source": [
    "8. What are the values of the following expressions?\n",
    "- 'Remember, remember, the fifth of July.'.split() = ['Remember,', 'remember,', 'the', 'fifth', 'of', 'July.']\n",
    "- '-'.join('There can only one.'.split()) = 'There-can-only-one.'\n"
   ]
  },
  {
   "cell_type": "markdown",
   "id": "43e776fa",
   "metadata": {},
   "source": [
    "9. What are the methods for right-justifying, left-justifying, and centering a string?\n",
    "- right-justifying : rjust()\tReturns a right justified version of the string\n",
    "- left-justifying : ljust()\tReturns a left justified version of the string\n",
    "- centering : center()\tReturns a centered string"
   ]
  },
  {
   "cell_type": "markdown",
   "id": "1b1ce992",
   "metadata": {},
   "source": [
    "10. What is the best way to remove whitespace characters from the start or end?\n",
    "- rstrip() method removes whitespace at the end of a string.\n",
    "- lstrip() method removes whitespace at the beginning of a string.\n",
    "- strip() method removes whitespace at the beginning and end (both sides) of a string."
   ]
  },
  {
   "cell_type": "code",
   "execution_count": null,
   "id": "5d961339",
   "metadata": {},
   "outputs": [],
   "source": []
  }
 ],
 "metadata": {
  "kernelspec": {
   "display_name": "Python 3 (ipykernel)",
   "language": "python",
   "name": "python3"
  },
  "language_info": {
   "codemirror_mode": {
    "name": "ipython",
    "version": 3
   },
   "file_extension": ".py",
   "mimetype": "text/x-python",
   "name": "python",
   "nbconvert_exporter": "python",
   "pygments_lexer": "ipython3",
   "version": "3.9.7"
  }
 },
 "nbformat": 4,
 "nbformat_minor": 5
}
