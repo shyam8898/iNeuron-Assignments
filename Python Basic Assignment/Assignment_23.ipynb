{
 "cells": [
  {
   "cell_type": "markdown",
   "id": "bc4d85f2",
   "metadata": {},
   "source": [
    "1. What is the result of the code, and why?\n"
   ]
  },
  {
   "cell_type": "code",
   "execution_count": 1,
   "id": "1a37932c",
   "metadata": {},
   "outputs": [
    {
     "name": "stdout",
     "output_type": "stream",
     "text": [
      "1 2 8\n"
     ]
    }
   ],
   "source": [
    "def func(a, b=6, c=8):\n",
    "    print(a, b, c)\n",
    "\n",
    "func(1, 2)"
   ]
  },
  {
   "cell_type": "markdown",
   "id": "a15bd677",
   "metadata": {},
   "source": [
    "- In function i.e. func three parameters are there where 2 out of 3 parameters are default parameters.\n",
    "- When we call func it requires 3 arguments where 1 is compulsary i.e. a even if we are not assigning values for b and c it will take b=6, c=8 default values.\n",
    "- in func(1,2) here 2 arguments are passes i.e. a=1,b=2 and for c it will take as default value hence the ouput is 1 2 8"
   ]
  },
  {
   "cell_type": "markdown",
   "id": "2ed743e2",
   "metadata": {},
   "source": [
    "2. What is the result of this code, and why?"
   ]
  },
  {
   "cell_type": "code",
   "execution_count": 2,
   "id": "ed203a6b",
   "metadata": {},
   "outputs": [
    {
     "name": "stdout",
     "output_type": "stream",
     "text": [
      "1 2 3\n"
     ]
    }
   ],
   "source": [
    "def func(a, b, c=5):\n",
    "    print(a, b, c)\n",
    "\n",
    "func(1, c=3, b=2)"
   ]
  },
  {
   "cell_type": "markdown",
   "id": "89c59608",
   "metadata": {},
   "source": [
    "- In above func when we call we have passed the arguments with their name even if it is not in order it will work fine\n",
    "- c=3, b=2 and 1 will be assigned to parameter a hence the output is 1 2 3"
   ]
  },
  {
   "cell_type": "markdown",
   "id": "d09644a0",
   "metadata": {},
   "source": [
    "3. How about this code: what is its result, and why?"
   ]
  },
  {
   "cell_type": "code",
   "execution_count": 3,
   "id": "184575b8",
   "metadata": {},
   "outputs": [
    {
     "name": "stdout",
     "output_type": "stream",
     "text": [
      "1 (2, 3)\n"
     ]
    }
   ],
   "source": [
    "def func(a, *pargs):\n",
    "    print(a, pargs)\n",
    "\n",
    "func(1, 2, 3)"
   ]
  },
  {
   "cell_type": "markdown",
   "id": "34adfd7c",
   "metadata": {},
   "source": [
    "- In above func when we call we have passed the arguments 1,2,3 where 1 will be assigned to parameter a and rest will assigned to pargs hence the output is 1 (2,3)"
   ]
  },
  {
   "cell_type": "markdown",
   "id": "f59b7c9e",
   "metadata": {},
   "source": [
    "4. What does this code print, and why?"
   ]
  },
  {
   "cell_type": "code",
   "execution_count": 4,
   "id": "a200f94c",
   "metadata": {},
   "outputs": [
    {
     "name": "stdout",
     "output_type": "stream",
     "text": [
      "1 {'c': 3, 'b': 2}\n"
     ]
    }
   ],
   "source": [
    "def func(a, **kargs):\n",
    "    print(a, kargs)\n",
    "\n",
    "func(a=1, c=3, b=2)"
   ]
  },
  {
   "cell_type": "markdown",
   "id": "c1d8ce0d",
   "metadata": {},
   "source": [
    "- In above func when we call we have passed the arguments with names where a=1 and c=3 b=2 will go for parameter kargs and it will print 1 as we have already mentioned parameter (a) in func and rest parameters will be assigned to kargs hence the output is 1 {'c': 3, 'b': 2}"
   ]
  },
  {
   "cell_type": "markdown",
   "id": "ce7ac76c",
   "metadata": {},
   "source": [
    "5. What gets printed by this, and explain?"
   ]
  },
  {
   "cell_type": "code",
   "execution_count": 5,
   "id": "7c83b2bb",
   "metadata": {},
   "outputs": [
    {
     "name": "stdout",
     "output_type": "stream",
     "text": [
      "1 5 6 5\n"
     ]
    }
   ],
   "source": [
    "def func(a, b, c=8, d=5):\n",
    "    print(a, b, c, d)\n",
    "\n",
    "func(1, *(5, 6))"
   ]
  },
  {
   "cell_type": "markdown",
   "id": "2190ae9b",
   "metadata": {},
   "source": [
    "- In above func when we call we have passed the arguments where it will assign values in an order 1 for a, 5 for b, 6 for c and d will get its default value hence the output is 1 5 6 5"
   ]
  },
  {
   "cell_type": "markdown",
   "id": "73557b62",
   "metadata": {},
   "source": [
    "6. what is the result of this, and explain?"
   ]
  },
  {
   "cell_type": "code",
   "execution_count": 12,
   "id": "2788b732",
   "metadata": {},
   "outputs": [
    {
     "data": {
      "text/plain": [
       "(1, ['x'], {'a': 'y'})"
      ]
     },
     "execution_count": 12,
     "metadata": {},
     "output_type": "execute_result"
    }
   ],
   "source": [
    "def func(a, b, c):\n",
    "    a = 2; b[0] = 'x'; c['a'] = 'y'\n",
    "\n",
    "l=1; m=[1]; n={'a':0}\n",
    "func(l, m, n)\n",
    "l, m, n"
   ]
  },
  {
   "cell_type": "markdown",
   "id": "bdfd21b3",
   "metadata": {},
   "source": [
    "- In above func when we call we have passed the arguments where we have taken from another vairable i.e. l,m,n. The value of l is 1, m has got the value 'x' from func and n got value 'y' hence the output is (1, ['x'], {'a': 'y'})"
   ]
  },
  {
   "cell_type": "code",
   "execution_count": null,
   "id": "f7e044cd",
   "metadata": {},
   "outputs": [],
   "source": []
  }
 ],
 "metadata": {
  "kernelspec": {
   "display_name": "Python 3 (ipykernel)",
   "language": "python",
   "name": "python3"
  },
  "language_info": {
   "codemirror_mode": {
    "name": "ipython",
    "version": 3
   },
   "file_extension": ".py",
   "mimetype": "text/x-python",
   "name": "python",
   "nbconvert_exporter": "python",
   "pygments_lexer": "ipython3",
   "version": "3.9.7"
  }
 },
 "nbformat": 4,
 "nbformat_minor": 5
}
