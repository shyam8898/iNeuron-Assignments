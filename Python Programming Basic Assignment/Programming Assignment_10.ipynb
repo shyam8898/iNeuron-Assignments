{
 "cells": [
  {
   "cell_type": "markdown",
   "id": "e533495d",
   "metadata": {},
   "source": [
    "1) Write a Python program to find sum of elements in list?"
   ]
  },
  {
   "cell_type": "code",
   "execution_count": 3,
   "id": "648c2fdf",
   "metadata": {},
   "outputs": [
    {
     "data": {
      "text/plain": [
       "6"
      ]
     },
     "execution_count": 3,
     "metadata": {},
     "output_type": "execute_result"
    }
   ],
   "source": [
    "def sum_of_elements(lst):\n",
    "    return sum(lst)\n",
    "\n",
    "# Calling Function\n",
    "sum_of_elements([1,2,3])"
   ]
  },
  {
   "cell_type": "markdown",
   "id": "1b5a3fc5",
   "metadata": {},
   "source": [
    "2) Write a Python program to  Multiply all numbers in the list?"
   ]
  },
  {
   "cell_type": "code",
   "execution_count": 5,
   "id": "afda91e8",
   "metadata": {},
   "outputs": [
    {
     "data": {
      "text/plain": [
       "24"
      ]
     },
     "execution_count": 5,
     "metadata": {},
     "output_type": "execute_result"
    }
   ],
   "source": [
    "def mul_of_elements(lst):\n",
    "    result=1\n",
    "    for i in lst:\n",
    "        result*=i\n",
    "    return result\n",
    "\n",
    "# Calling Function\n",
    "mul_of_elements([1,2,3,4])"
   ]
  },
  {
   "cell_type": "markdown",
   "id": "990955fd",
   "metadata": {},
   "source": [
    "3) Write a Python program to find smallest number in a list?"
   ]
  },
  {
   "cell_type": "code",
   "execution_count": 6,
   "id": "5f46f8e9",
   "metadata": {},
   "outputs": [
    {
     "data": {
      "text/plain": [
       "1"
      ]
     },
     "execution_count": 6,
     "metadata": {},
     "output_type": "execute_result"
    }
   ],
   "source": [
    "def smallest_element(lst):\n",
    "    return min(lst)\n",
    "\n",
    "# Calling Function\n",
    "smallest_element([1,10,20,100])"
   ]
  },
  {
   "cell_type": "markdown",
   "id": "ef8f4be1",
   "metadata": {},
   "source": [
    "4) Write a Python program to find largest number in a list?"
   ]
  },
  {
   "cell_type": "code",
   "execution_count": 7,
   "id": "29b75a1a",
   "metadata": {},
   "outputs": [
    {
     "data": {
      "text/plain": [
       "100"
      ]
     },
     "execution_count": 7,
     "metadata": {},
     "output_type": "execute_result"
    }
   ],
   "source": [
    "def largest_element(lst):\n",
    "    return max(lst)\n",
    "\n",
    "# Calling Function\n",
    "largest_element([1,10,20,100])"
   ]
  },
  {
   "cell_type": "markdown",
   "id": "0e470c97",
   "metadata": {},
   "source": [
    "5) Write a Python program to find second largest number in a list?"
   ]
  },
  {
   "cell_type": "code",
   "execution_count": 14,
   "id": "35576e5d",
   "metadata": {},
   "outputs": [
    {
     "data": {
      "text/plain": [
       "65"
      ]
     },
     "execution_count": 14,
     "metadata": {},
     "output_type": "execute_result"
    }
   ],
   "source": [
    "def second_largest(lst):\n",
    "    lst.sort()\n",
    "    return lst[-2]\n",
    "\n",
    "# Calling Function\n",
    "list1 = [10, 20, 4, 45, 65,99]\n",
    "second_largest(list1)"
   ]
  },
  {
   "cell_type": "markdown",
   "id": "0c0d1f15",
   "metadata": {},
   "source": [
    "6) Write a Python program to find N largest elements from a list?"
   ]
  },
  {
   "cell_type": "code",
   "execution_count": 21,
   "id": "3a4aaaaa",
   "metadata": {},
   "outputs": [
    {
     "data": {
      "text/plain": [
       "20"
      ]
     },
     "execution_count": 21,
     "metadata": {},
     "output_type": "execute_result"
    }
   ],
   "source": [
    "def n_largest(lst,n):\n",
    "    try:\n",
    "        lst.sort()\n",
    "        return lst[-n]\n",
    "    except IndexError:\n",
    "        print(f\"Index Not Found, Elements in a list are less than {n} elements\")\n",
    "\n",
    "# Calling Function\n",
    "list1 = [10, 20, 4, 45, 65,99]\n",
    "n_largest(list1,4)"
   ]
  },
  {
   "cell_type": "markdown",
   "id": "b14c66ed",
   "metadata": {},
   "source": [
    "7) Write a Python program to print even numbers in a list?"
   ]
  },
  {
   "cell_type": "code",
   "execution_count": 22,
   "id": "fda2d996",
   "metadata": {},
   "outputs": [
    {
     "data": {
      "text/plain": [
       "[10, 20, 4]"
      ]
     },
     "execution_count": 22,
     "metadata": {},
     "output_type": "execute_result"
    }
   ],
   "source": [
    "def even_number(lst):\n",
    "        return [i for i in lst if i%2==0]\n",
    "\n",
    "# Calling Function\n",
    "list1 = [10, 20, 4, 45, 65,99]\n",
    "even_number(list1)"
   ]
  },
  {
   "cell_type": "markdown",
   "id": "3e5e3c90",
   "metadata": {},
   "source": [
    "8) Write a Python program to print odd numbers in a List?"
   ]
  },
  {
   "cell_type": "code",
   "execution_count": 23,
   "id": "823de8f9",
   "metadata": {},
   "outputs": [
    {
     "data": {
      "text/plain": [
       "[45, 65, 99]"
      ]
     },
     "execution_count": 23,
     "metadata": {},
     "output_type": "execute_result"
    }
   ],
   "source": [
    "def odd_number(lst):\n",
    "        return [i for i in lst if i%2!=0]\n",
    "\n",
    "# Calling Function\n",
    "list1 = [10, 20, 4, 45, 65,99]\n",
    "odd_number(list1)"
   ]
  },
  {
   "cell_type": "markdown",
   "id": "511a3fe5",
   "metadata": {},
   "source": [
    "9) Write a Python program to Remove empty List from List?"
   ]
  },
  {
   "cell_type": "code",
   "execution_count": 28,
   "id": "d87caed4",
   "metadata": {},
   "outputs": [
    {
     "data": {
      "text/plain": [
       "[1, 'hello', 56, 'sam']"
      ]
     },
     "execution_count": 28,
     "metadata": {},
     "output_type": "execute_result"
    }
   ],
   "source": [
    "def remove_empty_list(lst):\n",
    "    return [x for x in l1 if x]\n",
    "\n",
    "# Calling Function\n",
    "l1=[1,\"hello\",[],56,'sam',[]]\n",
    "remove_empty_list(l1)"
   ]
  },
  {
   "cell_type": "markdown",
   "id": "915086c1",
   "metadata": {},
   "source": [
    "10) Write a Python program to Cloning or Copying a list?"
   ]
  },
  {
   "cell_type": "code",
   "execution_count": 29,
   "id": "e8a43be8",
   "metadata": {},
   "outputs": [
    {
     "data": {
      "text/plain": [
       "[10, 20, 4, 45, 65, 99]"
      ]
     },
     "execution_count": 29,
     "metadata": {},
     "output_type": "execute_result"
    }
   ],
   "source": [
    "def copy_list(lst):\n",
    "    copied_list=lst.copy()\n",
    "    return copied_list\n",
    "\n",
    "# Calling Function\n",
    "list1 = [10, 20, 4, 45, 65,99]\n",
    "copy_list(list1)"
   ]
  },
  {
   "cell_type": "markdown",
   "id": "8c856c38",
   "metadata": {},
   "source": [
    "11) Write a Python program to Count occurrences of an element in a list?"
   ]
  },
  {
   "cell_type": "code",
   "execution_count": 33,
   "id": "106e2d56",
   "metadata": {},
   "outputs": [
    {
     "name": "stdout",
     "output_type": "stream",
     "text": [
      "8 has occurred 5 times\n"
     ]
    }
   ],
   "source": [
    "def countX(lst, x):\n",
    "    count = 0\n",
    "    for ele in lst:\n",
    "        if (ele == x):\n",
    "            count = count + 1\n",
    "    return count\n",
    "\n",
    "# Calling Function\n",
    "lst = [8, 6, 8, 10, 8, 20, 10, 8, 8]\n",
    "x = 8\n",
    "print('{} has occurred {} times'.format(x, countX(lst, x)))\n"
   ]
  },
  {
   "cell_type": "code",
   "execution_count": null,
   "id": "b91f8dee",
   "metadata": {},
   "outputs": [],
   "source": []
  }
 ],
 "metadata": {
  "kernelspec": {
   "display_name": "Python 3 (ipykernel)",
   "language": "python",
   "name": "python3"
  },
  "language_info": {
   "codemirror_mode": {
    "name": "ipython",
    "version": 3
   },
   "file_extension": ".py",
   "mimetype": "text/x-python",
   "name": "python",
   "nbconvert_exporter": "python",
   "pygments_lexer": "ipython3",
   "version": "3.9.7"
  }
 },
 "nbformat": 4,
 "nbformat_minor": 5
}
