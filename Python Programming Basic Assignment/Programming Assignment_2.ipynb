{
 "cells": [
  {
   "cell_type": "markdown",
   "id": "a5a9cab7",
   "metadata": {},
   "source": [
    "1) Write a Python program to convert kilometers to miles?"
   ]
  },
  {
   "cell_type": "code",
   "execution_count": 7,
   "id": "ff00af5b",
   "metadata": {},
   "outputs": [
    {
     "name": "stdout",
     "output_type": "stream",
     "text": [
      "10 kilometers is equal to 6.21371 miles\n"
     ]
    }
   ],
   "source": [
    "def kilometers_to_miles(km):\n",
    "    # conversion factor\n",
    "    conv_fac = 0.621371\n",
    "    miles = km * conv_fac\n",
    "    print(f'{km} kilometers is equal to {miles} miles')\n",
    "\n",
    "# Calling Function\n",
    "kilometers_to_miles(10)"
   ]
  },
  {
   "cell_type": "markdown",
   "id": "a5a14d83",
   "metadata": {},
   "source": [
    "2) Write a Python program to convert Celsius to Fahrenheit?"
   ]
  },
  {
   "cell_type": "code",
   "execution_count": 9,
   "id": "1a8b4316",
   "metadata": {},
   "outputs": [
    {
     "name": "stdout",
     "output_type": "stream",
     "text": [
      "50 Celsius is equal to 122.0 degree Fahrenheit\n"
     ]
    }
   ],
   "source": [
    "def convert_celsius_to_fahrenheit(celsius):\n",
    "    fahrenheit = (celsius * 1.8) + 32\n",
    "    print(f'{celsius} Celsius is equal to {fahrenheit} degree Fahrenheit')\n",
    "\n",
    "# Calling Function\n",
    "convert_celsius_to_fahrenheit(50)"
   ]
  },
  {
   "cell_type": "markdown",
   "id": "5800ab8d",
   "metadata": {},
   "source": [
    "3) Write a Python program to display calendar?"
   ]
  },
  {
   "cell_type": "code",
   "execution_count": 12,
   "id": "c9c622d0",
   "metadata": {},
   "outputs": [
    {
     "name": "stdout",
     "output_type": "stream",
     "text": [
      "     March 2022\n",
      "Mo Tu We Th Fr Sa Su\n",
      "    1  2  3  4  5  6\n",
      " 7  8  9 10 11 12 13\n",
      "14 15 16 17 18 19 20\n",
      "21 22 23 24 25 26 27\n",
      "28 29 30 31\n",
      "\n"
     ]
    }
   ],
   "source": [
    "import calendar\n",
    "\n",
    "def display_calendar(yy,mm):\n",
    "    print(calendar.month(yy, mm))\n",
    "\n",
    "# Calling Function\n",
    "display_calendar(2022,3)"
   ]
  },
  {
   "cell_type": "markdown",
   "id": "588a7bb8",
   "metadata": {},
   "source": [
    "4) Write a Python program to solve quadratic equation?"
   ]
  },
  {
   "cell_type": "code",
   "execution_count": 15,
   "id": "aa82881d",
   "metadata": {},
   "outputs": [
    {
     "name": "stdout",
     "output_type": "stream",
     "text": [
      "The solution are (-1.25-1.713913650100261j) and (-1.25+1.713913650100261j)\n"
     ]
    }
   ],
   "source": [
    "import cmath\n",
    "def quadratic_equation(a,b,c):\n",
    "    # calculate the discriminant\n",
    "    d = (b**2) - (4*a*c)\n",
    "    \n",
    "    # find two solutions\n",
    "    sol1 = (-b-cmath.sqrt(d))/(2*a)\n",
    "    sol2 = (-b+cmath.sqrt(d))/(2*a)\n",
    "    \n",
    "    print('The solution are {0} and {1}'.format(sol1,sol2))\n",
    "\n",
    "# Calling Function   \n",
    "quadratic_equation(2,5,9)"
   ]
  },
  {
   "cell_type": "markdown",
   "id": "2397764f",
   "metadata": {},
   "source": [
    "5) Write a Python program to swap two variables without temp variable?"
   ]
  },
  {
   "cell_type": "code",
   "execution_count": 19,
   "id": "5e64dc40",
   "metadata": {},
   "outputs": [
    {
     "name": "stdout",
     "output_type": "stream",
     "text": [
      "Before swapping: \n",
      "Value of x :  10  and y :  12\n",
      "After swapping: \n",
      "Value of x :  12  and y :  10\n"
     ]
    }
   ],
   "source": [
    "def swap(x,y):\n",
    "    print (\"Before swapping: \")\n",
    "    print(\"Value of x : \", x, \" and y : \", y)\n",
    "    x, y = y, x\n",
    "    print (\"After swapping: \")\n",
    "    print(\"Value of x : \", x, \" and y : \", y)\n",
    "\n",
    "# Calling Function   \n",
    "swap(10,12)"
   ]
  },
  {
   "cell_type": "code",
   "execution_count": null,
   "id": "9562d4ec",
   "metadata": {},
   "outputs": [],
   "source": []
  }
 ],
 "metadata": {
  "kernelspec": {
   "display_name": "Python 3 (ipykernel)",
   "language": "python",
   "name": "python3"
  },
  "language_info": {
   "codemirror_mode": {
    "name": "ipython",
    "version": 3
   },
   "file_extension": ".py",
   "mimetype": "text/x-python",
   "name": "python",
   "nbconvert_exporter": "python",
   "pygments_lexer": "ipython3",
   "version": "3.9.7"
  }
 },
 "nbformat": 4,
 "nbformat_minor": 5
}
