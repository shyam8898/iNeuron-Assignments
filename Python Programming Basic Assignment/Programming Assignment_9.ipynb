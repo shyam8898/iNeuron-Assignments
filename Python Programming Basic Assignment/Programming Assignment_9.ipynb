{
 "cells": [
  {
   "cell_type": "markdown",
   "id": "e5242034",
   "metadata": {},
   "source": [
    "1) Write a Python program to check if the given number is a Disarium Number?"
   ]
  },
  {
   "cell_type": "code",
   "execution_count": 17,
   "id": "287c93ac",
   "metadata": {},
   "outputs": [
    {
     "name": "stdout",
     "output_type": "stream",
     "text": [
      "Disarium Number\n"
     ]
    }
   ],
   "source": [
    "import math\n",
    "\n",
    "# Method to check whether a number is disarium or not\n",
    "def check(n) :\n",
    "    count_digits = len(str(n))\n",
    "    # Compute sum of terms like digit multiplied by\n",
    "    # power of position\n",
    "    sum = 0 # Initialize sum of terms\n",
    "    x = n\n",
    "    while (x!=0) :\n",
    "        # Get the rightmost digit\n",
    "        r = x % 10\n",
    "        # Sum the digits by powering according to\n",
    "        # the positions\n",
    "        sum = (int) (sum + math.pow(r, count_digits))\n",
    "        count_digits = count_digits - 1\n",
    "        x = x//10\n",
    "        \n",
    "    # If sum is same as number, then number is\n",
    "    if sum == n :\n",
    "        return 1\n",
    "    else :\n",
    "        return 0\n",
    "    \n",
    "# Calling Function\n",
    "n = 135\n",
    "if (check(n) == 1) :\n",
    "    print (\"Disarium Number\")\n",
    "else :\n",
    "    print (\"Not a Disarium Number\")"
   ]
  },
  {
   "cell_type": "markdown",
   "id": "a2876292",
   "metadata": {},
   "source": [
    "2) Write a Python program to print all disarium numbers between 1 to 100?"
   ]
  },
  {
   "cell_type": "code",
   "execution_count": 18,
   "id": "4c3c58e1",
   "metadata": {},
   "outputs": [
    {
     "name": "stdout",
     "output_type": "stream",
     "text": [
      "Disarium Number\n",
      "Disarium Number\n",
      "Disarium Number\n",
      "Disarium Number\n",
      "Disarium Number\n",
      "Disarium Number\n",
      "Disarium Number\n",
      "Disarium Number\n",
      "Disarium Number\n",
      "Not a Disarium Number\n",
      "Not a Disarium Number\n",
      "Not a Disarium Number\n",
      "Not a Disarium Number\n",
      "Not a Disarium Number\n",
      "Not a Disarium Number\n",
      "Not a Disarium Number\n",
      "Not a Disarium Number\n",
      "Not a Disarium Number\n",
      "Not a Disarium Number\n",
      "Not a Disarium Number\n",
      "Not a Disarium Number\n",
      "Not a Disarium Number\n",
      "Not a Disarium Number\n",
      "Not a Disarium Number\n",
      "Not a Disarium Number\n",
      "Not a Disarium Number\n",
      "Not a Disarium Number\n",
      "Not a Disarium Number\n",
      "Not a Disarium Number\n",
      "Not a Disarium Number\n",
      "Not a Disarium Number\n",
      "Not a Disarium Number\n",
      "Not a Disarium Number\n",
      "Not a Disarium Number\n",
      "Not a Disarium Number\n",
      "Not a Disarium Number\n",
      "Not a Disarium Number\n",
      "Not a Disarium Number\n",
      "Not a Disarium Number\n",
      "Not a Disarium Number\n",
      "Not a Disarium Number\n",
      "Not a Disarium Number\n",
      "Not a Disarium Number\n",
      "Not a Disarium Number\n",
      "Not a Disarium Number\n",
      "Not a Disarium Number\n",
      "Not a Disarium Number\n",
      "Not a Disarium Number\n",
      "Not a Disarium Number\n",
      "Not a Disarium Number\n",
      "Not a Disarium Number\n",
      "Not a Disarium Number\n",
      "Not a Disarium Number\n",
      "Not a Disarium Number\n",
      "Not a Disarium Number\n",
      "Not a Disarium Number\n",
      "Not a Disarium Number\n",
      "Not a Disarium Number\n",
      "Not a Disarium Number\n",
      "Not a Disarium Number\n",
      "Not a Disarium Number\n",
      "Not a Disarium Number\n",
      "Not a Disarium Number\n",
      "Not a Disarium Number\n",
      "Not a Disarium Number\n",
      "Not a Disarium Number\n",
      "Not a Disarium Number\n",
      "Not a Disarium Number\n",
      "Not a Disarium Number\n",
      "Not a Disarium Number\n",
      "Not a Disarium Number\n",
      "Not a Disarium Number\n",
      "Not a Disarium Number\n",
      "Not a Disarium Number\n",
      "Not a Disarium Number\n",
      "Not a Disarium Number\n",
      "Not a Disarium Number\n",
      "Not a Disarium Number\n",
      "Not a Disarium Number\n",
      "Not a Disarium Number\n",
      "Not a Disarium Number\n",
      "Not a Disarium Number\n",
      "Not a Disarium Number\n",
      "Not a Disarium Number\n",
      "Not a Disarium Number\n",
      "Not a Disarium Number\n",
      "Not a Disarium Number\n",
      "Not a Disarium Number\n",
      "Disarium Number\n",
      "Not a Disarium Number\n",
      "Not a Disarium Number\n",
      "Not a Disarium Number\n",
      "Not a Disarium Number\n",
      "Not a Disarium Number\n",
      "Not a Disarium Number\n",
      "Not a Disarium Number\n",
      "Not a Disarium Number\n",
      "Not a Disarium Number\n",
      "Not a Disarium Number\n",
      "Not a Disarium Number\n"
     ]
    }
   ],
   "source": [
    "def check_disarium_number(array):\n",
    "    for i in array:\n",
    "        # Calling Above Function\n",
    "        if check(i)==1:\n",
    "            print('Disarium Number')\n",
    "        else:\n",
    "            print (\"Not a Disarium Number\")\n",
    "            \n",
    "# Calling Function\n",
    "check_disarium_number([i for i in range(1,101)])"
   ]
  },
  {
   "cell_type": "markdown",
   "id": "38a34037",
   "metadata": {},
   "source": [
    "3) Write a Python program to check if the given number is Happy Number?"
   ]
  },
  {
   "cell_type": "code",
   "execution_count": 19,
   "id": "27d2a9d3",
   "metadata": {},
   "outputs": [
    {
     "name": "stdout",
     "output_type": "stream",
     "text": [
      "True\n",
      "True\n",
      "False\n"
     ]
    }
   ],
   "source": [
    "def is_Happy_num(n):\n",
    "  past = set()\n",
    "  while n != 1:\n",
    "        n = sum(int(i)**2 for i in str(n))\n",
    "        if n in past:\n",
    "            return False\n",
    "        past.add(n)\n",
    "  return True\n",
    "\n",
    "# Calling Function\n",
    "print(is_Happy_num(7))\n",
    "print(is_Happy_num(932))\n",
    "print(is_Happy_num(6))"
   ]
  },
  {
   "cell_type": "markdown",
   "id": "75ee1d99",
   "metadata": {},
   "source": [
    "4) Write a Python program to print all happy numbers between 1 and 100?"
   ]
  },
  {
   "cell_type": "code",
   "execution_count": 20,
   "id": "141ffd41",
   "metadata": {},
   "outputs": [
    {
     "name": "stdout",
     "output_type": "stream",
     "text": [
      "True\n",
      "False\n",
      "False\n",
      "False\n",
      "False\n",
      "False\n",
      "True\n",
      "False\n",
      "False\n",
      "True\n",
      "False\n",
      "False\n",
      "True\n",
      "False\n",
      "False\n",
      "False\n",
      "False\n",
      "False\n",
      "True\n",
      "False\n",
      "False\n",
      "False\n",
      "True\n",
      "False\n",
      "False\n",
      "False\n",
      "False\n",
      "True\n",
      "False\n",
      "False\n",
      "True\n",
      "True\n",
      "False\n",
      "False\n",
      "False\n",
      "False\n",
      "False\n",
      "False\n",
      "False\n",
      "False\n",
      "False\n",
      "False\n",
      "False\n",
      "True\n",
      "False\n",
      "False\n",
      "False\n",
      "False\n",
      "True\n",
      "False\n",
      "False\n",
      "False\n",
      "False\n",
      "False\n",
      "False\n",
      "False\n",
      "False\n",
      "False\n",
      "False\n",
      "False\n",
      "False\n",
      "False\n",
      "False\n",
      "False\n",
      "False\n",
      "False\n",
      "False\n",
      "True\n",
      "False\n",
      "True\n",
      "False\n",
      "False\n",
      "False\n",
      "False\n",
      "False\n",
      "False\n",
      "False\n",
      "False\n",
      "True\n",
      "False\n",
      "False\n",
      "True\n",
      "False\n",
      "False\n",
      "False\n",
      "True\n",
      "False\n",
      "False\n",
      "False\n",
      "False\n",
      "True\n",
      "False\n",
      "False\n",
      "True\n",
      "False\n",
      "False\n",
      "True\n",
      "False\n",
      "False\n",
      "True\n"
     ]
    }
   ],
   "source": [
    "def happy_numbers(array):\n",
    "    for i in array:\n",
    "        # Calling Above Function\n",
    "        print(is_Happy_num(i))\n",
    "# Calling Function\n",
    "happy_numbers([i for i in range(1,101)])"
   ]
  },
  {
   "cell_type": "markdown",
   "id": "c16e25de",
   "metadata": {},
   "source": [
    "5) Write a Python program to determine whether the given number is a Harshad Number?"
   ]
  },
  {
   "cell_type": "code",
   "execution_count": 21,
   "id": "26176c69",
   "metadata": {},
   "outputs": [
    {
     "name": "stdout",
     "output_type": "stream",
     "text": [
      "100 is Harshad Number\n"
     ]
    }
   ],
   "source": [
    "def harshad_number(number):\n",
    "    # Making copy of number for later use\n",
    "    copy = number\n",
    "    # Finding sum of digit\n",
    "    digit_sum = 0\n",
    "    while number:\n",
    "        digit_sum += number%10\n",
    "        number //= 10\n",
    "    # Checking divisibility & making decision\n",
    "    if copy%digit_sum == 0:\n",
    "        print('%d is Harshad Number' % (copy))\n",
    "    else:\n",
    "        print('%d is Not Harshad Number' % (copy))\n",
    "\n",
    "# Calling Function\n",
    "harshad_number(100)"
   ]
  },
  {
   "cell_type": "markdown",
   "id": "749da0d7",
   "metadata": {},
   "source": [
    "6) Write a Python program to print all pronic numbers between 1 and 100?"
   ]
  },
  {
   "cell_type": "code",
   "execution_count": 22,
   "id": "69cf0d2b",
   "metadata": {},
   "outputs": [
    {
     "name": "stdout",
     "output_type": "stream",
     "text": [
      "Pronic numbers between 1 and 100: \n",
      "2\n",
      " \n",
      "6\n",
      " \n",
      "12\n",
      " \n",
      "20\n",
      " \n",
      "30\n",
      " \n",
      "42\n",
      " \n",
      "56\n",
      " \n",
      "72\n",
      " \n",
      "90\n",
      " \n"
     ]
    }
   ],
   "source": [
    "def isPronicNumber(num):  \n",
    "    flag = False;  \n",
    "      \n",
    "    for j in range(1, num+1):  \n",
    "        #Checks for pronic number by multiplying consecutive numbers  \n",
    "        if((j*(j+1)) == num):  \n",
    "            flag = True;  \n",
    "            break;  \n",
    "    return flag;  \n",
    "   \n",
    "#Displays pronic numbers between 1 and 100  \n",
    "print(\"Pronic numbers between 1 and 100: \");  \n",
    "for i in range(1, 101):  \n",
    "    if(isPronicNumber(i)):  \n",
    "        print(i),  \n",
    "        print(\" \"),"
   ]
  },
  {
   "cell_type": "code",
   "execution_count": null,
   "id": "ffa6ff8b",
   "metadata": {},
   "outputs": [],
   "source": []
  }
 ],
 "metadata": {
  "kernelspec": {
   "display_name": "Python 3 (ipykernel)",
   "language": "python",
   "name": "python3"
  },
  "language_info": {
   "codemirror_mode": {
    "name": "ipython",
    "version": 3
   },
   "file_extension": ".py",
   "mimetype": "text/x-python",
   "name": "python",
   "nbconvert_exporter": "python",
   "pygments_lexer": "ipython3",
   "version": "3.9.7"
  }
 },
 "nbformat": 4,
 "nbformat_minor": 5
}
