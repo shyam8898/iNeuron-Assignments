{
 "cells": [
  {
   "cell_type": "markdown",
   "id": "53342ce5",
   "metadata": {},
   "source": [
    "1) Write a Python program to find words which are greater than given length k?"
   ]
  },
  {
   "cell_type": "code",
   "execution_count": 6,
   "id": "f56e7173",
   "metadata": {},
   "outputs": [
    {
     "name": "stdout",
     "output_type": "stream",
     "text": [
      "['science', 'ineuron']\n"
     ]
    }
   ],
   "source": [
    "def string_k(k, str):\n",
    "    # create the empty string\n",
    "    string = []\n",
    "    \n",
    "    # split the string where space is comes\n",
    "    text = str.split(\" \")\n",
    "\n",
    "    # iterate the loop till every substring\n",
    "    for x in text:\n",
    "        # if length of current sub string\n",
    "        # is greater than k then\n",
    "        if len(x) > k:\n",
    "        # append this sub string in\n",
    "        # string list\n",
    "            string.append(x)\n",
    "        # return string list\n",
    "    return string\n",
    "\n",
    "\n",
    "# Calling Function\n",
    "k = 5\n",
    "str =\"Hello My Name Is Shyam Patel and I'm doing data science full stack from ineuron\"\n",
    "print(string_k(k, str))\n"
   ]
  },
  {
   "cell_type": "markdown",
   "id": "8a32c789",
   "metadata": {},
   "source": [
    "2) Write a Python program for removing i-th character from a string?"
   ]
  },
  {
   "cell_type": "code",
   "execution_count": 8,
   "id": "f5bd745e",
   "metadata": {},
   "outputs": [
    {
     "name": "stdout",
     "output_type": "stream",
     "text": [
      "helloorld\n"
     ]
    }
   ],
   "source": [
    "def remove(string, i):\n",
    "    # Characters before the i-th indexed\n",
    "    # is stored in a variable a\n",
    "    a = string[ : i]\n",
    "    # Characters after the nth indexed\n",
    "    # is stored in a variable b\n",
    "    b = string[i + 1: ]\n",
    "    # Returning string after removing\n",
    "    # nth indexed character.\n",
    "    return a + b\n",
    "\n",
    "# implementation\n",
    "if __name__ == '__main__':\n",
    "    string = \"helloworld\"\n",
    "    # Remove nth index element\n",
    "    i = 5\n",
    "    # Print the new string\n",
    "    print(remove(string, i))\n"
   ]
  },
  {
   "cell_type": "markdown",
   "id": "360fa2ec",
   "metadata": {},
   "source": [
    "3) Write a Python program to split and join a string?"
   ]
  },
  {
   "cell_type": "code",
   "execution_count": 16,
   "id": "0cab7f37",
   "metadata": {},
   "outputs": [
    {
     "data": {
      "text/plain": [
       "'hello, my name is shyam  I am from mumbai  What about you?'"
      ]
     },
     "execution_count": 16,
     "metadata": {},
     "output_type": "execute_result"
    }
   ],
   "source": [
    "def split_join(string,splitter):\n",
    "    split=string.split(splitter)\n",
    "    return \" \".join(split)\n",
    "\n",
    "string=\"hello, my name is shyam. I am from mumbai. What about you?\"\n",
    "# Calling Function\n",
    "split_join(string,'.')"
   ]
  },
  {
   "cell_type": "markdown",
   "id": "23aae544",
   "metadata": {},
   "source": [
    "4) Write a Python to check if a given string is binary string or not?"
   ]
  },
  {
   "cell_type": "code",
   "execution_count": 19,
   "id": "fb57838d",
   "metadata": {},
   "outputs": [
    {
     "name": "stdout",
     "output_type": "stream",
     "text": [
      "Yes\n"
     ]
    }
   ],
   "source": [
    "def check(string) :\n",
    "    p = set(string)\n",
    "    s = {'0', '1'}\n",
    "    if s == p or p == {'0'} or p == {'1'}:\n",
    "        print(\"Yes\")\n",
    "    else :\n",
    "        print(\"No\")\n",
    "\n",
    "# Implementation\n",
    "if __name__ == \"__main__\" :\n",
    "    string = \"101010000111\"\n",
    "    # calling function\n",
    "    check(string)\n"
   ]
  },
  {
   "cell_type": "markdown",
   "id": "a1c8dbff",
   "metadata": {},
   "source": [
    "5) Write a Python program to find uncommon words from two Strings?"
   ]
  },
  {
   "cell_type": "code",
   "execution_count": 21,
   "id": "27181915",
   "metadata": {},
   "outputs": [
    {
     "name": "stdout",
     "output_type": "stream",
     "text": [
      "['Python', 'Learning', 'Data', 'Science', 'and', 'running', 'Program']\n"
     ]
    }
   ],
   "source": [
    "def UncommonWords(A, B):\n",
    "    count = {}\n",
    "    for word in A.split():\n",
    "        count[word] = count.get(word, 0) + 1\n",
    "        \n",
    "    for word in B.split():\n",
    "        count[word] = count.get(word, 0) + 1\n",
    "        \n",
    "    return [word for word in count if count[word] == 1]\n",
    "\n",
    "# Implementation\n",
    "A = \"Hello World Hello Python\"\n",
    "B = \"Learning Data Science and running Hello World Program\"\n",
    "\n",
    "# Print required answer\n",
    "print(UncommonWords(A, B))\n"
   ]
  },
  {
   "cell_type": "markdown",
   "id": "844cbc07",
   "metadata": {},
   "source": [
    "6) Write a Python to find all duplicate characters in string?"
   ]
  },
  {
   "cell_type": "code",
   "execution_count": 32,
   "id": "f5458d43",
   "metadata": {},
   "outputs": [
    {
     "name": "stdout",
     "output_type": "stream",
     "text": [
      "H e l o   d n\n"
     ]
    }
   ],
   "source": [
    "def duplicate_characters(string):\n",
    "    duplicates = []\n",
    "    for char in string:\n",
    "        if string.count(char) > 1:\n",
    "            if char not in duplicates:\n",
    "                duplicates.append(char)\n",
    "    print(*duplicates)\n",
    "    \n",
    "# Calling Function\n",
    "string = \"Hello World and Hello Python\"\n",
    "duplicate_characters(string)"
   ]
  },
  {
   "cell_type": "markdown",
   "id": "0c5425f0",
   "metadata": {},
   "source": [
    "7) Write a Python Program to check if a string contains any special character?"
   ]
  },
  {
   "cell_type": "code",
   "execution_count": 36,
   "id": "f1bb33f1",
   "metadata": {},
   "outputs": [
    {
     "name": "stdout",
     "output_type": "stream",
     "text": [
      "String has Special Characters\n"
     ]
    }
   ],
   "source": [
    "import re\n",
    "\n",
    "def run(string):\n",
    "    regex = re.compile('[@_!#$%^&*()<>?/\\|}{~:]')\n",
    "    if(regex.search(string) == None):\n",
    "        print(\"String is accepted\")\n",
    "    else:\n",
    "        print(\"String has Special Characters\")\n",
    "\n",
    "# Implementation\n",
    "if __name__ == '__main__' :\n",
    "    string = \"Hello$World%&\"\n",
    "    # calling run function\n",
    "    run(string)\n"
   ]
  },
  {
   "cell_type": "code",
   "execution_count": null,
   "id": "97435af8",
   "metadata": {},
   "outputs": [],
   "source": []
  }
 ],
 "metadata": {
  "kernelspec": {
   "display_name": "Python 3 (ipykernel)",
   "language": "python",
   "name": "python3"
  },
  "language_info": {
   "codemirror_mode": {
    "name": "ipython",
    "version": 3
   },
   "file_extension": ".py",
   "mimetype": "text/x-python",
   "name": "python",
   "nbconvert_exporter": "python",
   "pygments_lexer": "ipython3",
   "version": "3.9.7"
  }
 },
 "nbformat": 4,
 "nbformat_minor": 5
}
