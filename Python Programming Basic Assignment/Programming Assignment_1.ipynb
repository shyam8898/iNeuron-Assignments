{
 "cells": [
  {
   "cell_type": "markdown",
   "id": "d852b428",
   "metadata": {},
   "source": [
    "1) Write a Python program to print \"Hello Python\"?"
   ]
  },
  {
   "cell_type": "code",
   "execution_count": 1,
   "id": "3fd494fb",
   "metadata": {},
   "outputs": [
    {
     "name": "stdout",
     "output_type": "stream",
     "text": [
      "Hello Pyhton\n"
     ]
    }
   ],
   "source": [
    "def hello():\n",
    "    print(\"Hello Pyhton\")\n",
    "    \n",
    "# Calling Function\n",
    "hello()"
   ]
  },
  {
   "cell_type": "markdown",
   "id": "a25445e0",
   "metadata": {},
   "source": [
    "2) Write a Python program to do arithmetical operations addition and division.?"
   ]
  },
  {
   "cell_type": "code",
   "execution_count": 11,
   "id": "eddb56c4",
   "metadata": {},
   "outputs": [
    {
     "name": "stdout",
     "output_type": "stream",
     "text": [
      "Addition: 10 \n",
      "Division: 4.0\n"
     ]
    }
   ],
   "source": [
    "def arithmetical_operations(a,b):\n",
    "    try:\n",
    "        add=a+b\n",
    "        div=a/b\n",
    "        print(\"Addition: {} \\nDivision: {}\".format(add,div))\n",
    "    except ZeroDivisionError:\n",
    "        print(\"Second argument must be greater than zero\")\n",
    "        \n",
    "# Calling Function\n",
    "arithmetical_operations(8,2)"
   ]
  },
  {
   "cell_type": "markdown",
   "id": "fb9f4c26",
   "metadata": {},
   "source": [
    "3) Write a Python program to find the area of a triangle?"
   ]
  },
  {
   "cell_type": "code",
   "execution_count": 13,
   "id": "c4a2e110",
   "metadata": {},
   "outputs": [
    {
     "name": "stdout",
     "output_type": "stream",
     "text": [
      "Area of triangle is: 14.0\n"
     ]
    }
   ],
   "source": [
    "def triangle(b,h):\n",
    "    area=0.5 * b * h\n",
    "    print(f\"Area of triangle is: {area}\")\n",
    "\n",
    "# Calling Function\n",
    "triangle(7,4) "
   ]
  },
  {
   "cell_type": "markdown",
   "id": "89dd9b67",
   "metadata": {},
   "source": [
    "4) Write a Python program to swap two variables?"
   ]
  },
  {
   "cell_type": "code",
   "execution_count": 24,
   "id": "f6c31e30",
   "metadata": {},
   "outputs": [
    {
     "name": "stdout",
     "output_type": "stream",
     "text": [
      "a=10 b=2\n"
     ]
    }
   ],
   "source": [
    "def swap(a,b):\n",
    "    c=a\n",
    "    a=b\n",
    "    b=c\n",
    "    print(f\"a={a} b={b}\")\n",
    "\n",
    "# Calling Function\n",
    "swap(2,10)"
   ]
  },
  {
   "cell_type": "markdown",
   "id": "23c70fee",
   "metadata": {},
   "source": [
    "5) Write a Python program to generate a random number?"
   ]
  },
  {
   "cell_type": "code",
   "execution_count": 36,
   "id": "b90cf428",
   "metadata": {},
   "outputs": [
    {
     "name": "stdout",
     "output_type": "stream",
     "text": [
      "9\n"
     ]
    }
   ],
   "source": [
    "import random\n",
    "def random_no(n):\n",
    "    print(random.randint(0,n))\n",
    "\n",
    "# Calling Function\n",
    "random_no(10)"
   ]
  },
  {
   "cell_type": "code",
   "execution_count": null,
   "id": "8ec87cd4",
   "metadata": {},
   "outputs": [],
   "source": []
  }
 ],
 "metadata": {
  "kernelspec": {
   "display_name": "Python 3 (ipykernel)",
   "language": "python",
   "name": "python3"
  },
  "language_info": {
   "codemirror_mode": {
    "name": "ipython",
    "version": 3
   },
   "file_extension": ".py",
   "mimetype": "text/x-python",
   "name": "python",
   "nbconvert_exporter": "python",
   "pygments_lexer": "ipython3",
   "version": "3.9.7"
  }
 },
 "nbformat": 4,
 "nbformat_minor": 5
}
