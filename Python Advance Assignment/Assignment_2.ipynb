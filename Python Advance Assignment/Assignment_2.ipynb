{
 "cells": [
  {
   "cell_type": "markdown",
   "id": "4a6b90a8",
   "metadata": {},
   "source": [
    "Q1) What is the relationship between classes and modules?\n",
    "- Modules are collections of methods and constants. They cannot generate instances. Classes may generate instances (objects), and have per-instance state (instance variables)."
   ]
  },
  {
   "cell_type": "markdown",
   "id": "69f19398",
   "metadata": {},
   "source": [
    "Q2) How do you make instances and classes?\n",
    "- To create classes use keyword class\n",
    "- To create instances of a class, you call the class using class name and pass in whatever arguments its __init__ method accepts."
   ]
  },
  {
   "cell_type": "markdown",
   "id": "36db7e4a",
   "metadata": {},
   "source": [
    "Q3) Where and how should be class attributes created?\n",
    "- Class attributes are attributes which are owned by the class itself. They will be shared by all the instances of the class. Therefore they have the same value for every instance. We define class attributes outside all the methods, usually they are placed at the top, right below the class header."
   ]
  },
  {
   "cell_type": "markdown",
   "id": "540a2414",
   "metadata": {},
   "source": [
    "Q4) Where and how are instance attributes created?\n",
    "- Instance attributes are defined in the constructor. Defined directly inside a class. Defined inside a constructor using the self parameter"
   ]
  },
  {
   "cell_type": "markdown",
   "id": "b569e064",
   "metadata": {},
   "source": [
    "Q5) What does the term \"self\" in a Python class mean?\n",
    "- The self parameter is a reference to the current instance of the class, and is used to access variables that belongs to the class"
   ]
  },
  {
   "cell_type": "markdown",
   "id": "60cdb13b",
   "metadata": {},
   "source": [
    "Q6) How does a Python class handle operator overloading?\n",
    "- Python operators work for built-in classes. But the same operator behaves differently with different types. For example, the + operator will perform arithmetic addition on two numbers, merge two lists, or concatenate two strings.\n",
    "- This feature in Python that allows the same operator to have different meaning according to the context is called operator overloading."
   ]
  },
  {
   "cell_type": "markdown",
   "id": "74b1f518",
   "metadata": {},
   "source": [
    "Q7) When do you consider allowing operator overloading of your classes?\n",
    "- Consider that we have two objects which are a physical representation of a class (user-defined data type) and we have to add two objects with binary ‘+’ operator it throws an error, because compiler don’t know how to add two objects.\n",
    "- So we define a method for an operator and that process is called operator overloading. We can overload all existing operators but we can’t create a new operator.\n",
    "- To perform operator overloading, Python provides some special function or magic function that is automatically invoked when it is associated with that particular operator.\n",
    "- For example, when we use + operator, the magic method __add__ is automatically invoked in which the operation for + operator is defined."
   ]
  },
  {
   "cell_type": "markdown",
   "id": "6ce68b25",
   "metadata": {},
   "source": [
    "Q8) What is the most popular form of operator overloading?\n",
    "- A very popular and convenient example is the Addition (+) operator. Just think how the '+' operator operates on two numbers and the same operator operates on two strings. It performs “Addition” on numbers whereas it performs “Concatenation” on strings."
   ]
  },
  {
   "cell_type": "markdown",
   "id": "dae892bf",
   "metadata": {},
   "source": [
    "Q9) What are the two most important concepts to grasp in order to comprehend Python OOP code?\n",
    "- In order to develop robust and well-designed software products with Python, it is essential to obtain a comprehensive understanding of OOP.\n",
    "- Inheritance and Polymorphism are the two most important concepts to grasp in order to comprehend Python OOP code."
   ]
  },
  {
   "cell_type": "code",
   "execution_count": null,
   "id": "c823d0e7",
   "metadata": {},
   "outputs": [],
   "source": []
  }
 ],
 "metadata": {
  "kernelspec": {
   "display_name": "Python 3 (ipykernel)",
   "language": "python",
   "name": "python3"
  },
  "language_info": {
   "codemirror_mode": {
    "name": "ipython",
    "version": 3
   },
   "file_extension": ".py",
   "mimetype": "text/x-python",
   "name": "python",
   "nbconvert_exporter": "python",
   "pygments_lexer": "ipython3",
   "version": "3.9.7"
  }
 },
 "nbformat": 4,
 "nbformat_minor": 5
}
