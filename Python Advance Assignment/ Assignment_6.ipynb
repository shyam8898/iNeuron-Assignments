{
 "cells": [
  {
   "cell_type": "markdown",
   "id": "36a3d77e",
   "metadata": {},
   "source": [
    "Q1) Describe three applications for exception processing.\n",
    "- Exceptions are raised when the program is syntactically correct, but the code resulted in an error. This error does not stop the execution of the program, however, it changes the normal flow of the program.\n",
    "- Try and except statements are used to catch and handle exceptions in Python. Statements that can raise exceptions are kept inside the try clause and the statements that handle the exception are written inside except clause.\n",
    "- In python, you can also use the else clause on the try-except block which must be present after all the except clauses."
   ]
  },
  {
   "cell_type": "markdown",
   "id": "9878637a",
   "metadata": {},
   "source": [
    "Q2) What happens if you don't do something extra to treat an exception?\n",
    "- We need to write the code in try except block where if an error occurs it will tell us what exactly the error is and also it will not crash the code."
   ]
  },
  {
   "cell_type": "markdown",
   "id": "798b5abd",
   "metadata": {},
   "source": [
    "Q3) What are your options for recovering from an exception in your script?\n",
    "- For anticipated exceptions, one may use try catch blocks.\n",
    "- Corrective Action and Log the Exception Message\n",
    "- For unanticipated exceptions, override callback functions to recover"
   ]
  },
  {
   "cell_type": "markdown",
   "id": "4eba6668",
   "metadata": {},
   "source": [
    "Q4) Describe two methods for triggering exceptions in your script.\n",
    "- To avoid such a scenario, there are two methods to handle Python exceptions: Try – This method catches the exceptions raised by the program. Raise – Triggers an exception manually using custom exceptions."
   ]
  },
  {
   "cell_type": "markdown",
   "id": "6ff95591",
   "metadata": {},
   "source": [
    "Q5) Identify two methods for specifying actions to be executed at termination time, regardless of whether or not an exception exists.\n",
    "- In Python, keywords else and finally can also be used along with the try and except clauses. While the except block is executed if the exception occurs inside the try block, the else block gets processed if the try block is found to be exception free.\n",
    "- The finally block consists of statements which should be processed regardless of an exception occurring in the try block or not."
   ]
  },
  {
   "cell_type": "markdown",
   "id": "a2047ab2",
   "metadata": {},
   "source": []
  }
 ],
 "metadata": {
  "kernelspec": {
   "display_name": "Python 3 (ipykernel)",
   "language": "python",
   "name": "python3"
  },
  "language_info": {
   "codemirror_mode": {
    "name": "ipython",
    "version": 3
   },
   "file_extension": ".py",
   "mimetype": "text/x-python",
   "name": "python",
   "nbconvert_exporter": "python",
   "pygments_lexer": "ipython3",
   "version": "3.9.7"
  }
 },
 "nbformat": 4,
 "nbformat_minor": 5
}
