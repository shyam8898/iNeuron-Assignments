{
 "cells": [
  {
   "cell_type": "markdown",
   "id": "326ceed3",
   "metadata": {},
   "source": [
    "Q1) What is the difference between __getattr__ and __getattribute__?\n",
    "- Therefore, the biggest difference is that __getattr__ is called for attributes that don't actually exist on a class. This is the explanation from the documentation: object. __getattribute__(self, name) : Called unconditionally to implement attribute accesses for instances of the class."
   ]
  },
  {
   "cell_type": "markdown",
   "id": "ce572209",
   "metadata": {},
   "source": [
    "Q2) What is the difference between properties and descriptors?\n",
    "- Descriptors are a low-level mechanism that lets you hook into an object's attributes being accessed.\n",
    "- Properties are a high-level application of this; that is, properties are implemented using descriptors"
   ]
  },
  {
   "cell_type": "markdown",
   "id": "59db7b5b",
   "metadata": {},
   "source": [
    "Q3) What are the key differences in functionality between __getattr__ and __getattribute__, as well as properties and descriptors?\n",
    "- A key difference between __getattr__ and __getattribute__ is that __getattr__ is only invoked if the attribute wasn't found the usual ways. It's good for implementing a fallback for missing attributes, and is probably the one of two you want.\n",
    "- __getattribute__ is invoked before looking at the actual attributes on the object, and so can be tricky to implement correctly. You can end up in infinite recursions very easily.\n",
    "- New-style classes derive from object, old-style classes are those in Python 2.x with no explicit base class. But the distinction between old-style and new-style classes is not the important one when choosing between __getattr__ and __getattribute__.\n",
    "\n",
    "- You almost certainly want __getattr__."
   ]
  },
  {
   "cell_type": "markdown",
   "id": "c8e05ac1",
   "metadata": {},
   "source": []
  }
 ],
 "metadata": {
  "kernelspec": {
   "display_name": "Python 3 (ipykernel)",
   "language": "python",
   "name": "python3"
  },
  "language_info": {
   "codemirror_mode": {
    "name": "ipython",
    "version": 3
   },
   "file_extension": ".py",
   "mimetype": "text/x-python",
   "name": "python",
   "nbconvert_exporter": "python",
   "pygments_lexer": "ipython3",
   "version": "3.9.7"
  }
 },
 "nbformat": 4,
 "nbformat_minor": 5
}
