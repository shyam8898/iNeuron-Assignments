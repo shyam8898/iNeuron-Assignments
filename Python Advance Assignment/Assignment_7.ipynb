{
 "cells": [
  {
   "cell_type": "markdown",
   "id": "d1bcbc6b",
   "metadata": {},
   "source": [
    "Q1) What is the purpose of the try statement?\n",
    "- The try statement allows you to define a block of code to be tested for errors while it is being executed. The catch statement allows you to define a block of code to be executed, if an error occurs in the try block."
   ]
  },
  {
   "cell_type": "markdown",
   "id": "477e73bd",
   "metadata": {},
   "source": [
    "Q2) What are the two most popular try statement variations?\n",
    "- Error in Python can be of two types i.e. Syntax errors and Exceptions. Errors are the problems in a program due to which the program will stop the execution."
   ]
  },
  {
   "cell_type": "markdown",
   "id": "115bdc23",
   "metadata": {},
   "source": [
    "Q3) What is the purpose of the raise statement?\n",
    "- The raise keyword is used to raise an exception. You can define what kind of error to raise, and the text to print to the user."
   ]
  },
  {
   "cell_type": "markdown",
   "id": "5bc4ab9c",
   "metadata": {},
   "source": [
    "Q4) What does the assert statement do, and what other statement is it like?\n",
    "- Assert statement takes an expression and optional message. assert statement is used to check types, values of argument and the output of the function. assert statement is used as debugging tool as it halts the program at the point where an error occurs."
   ]
  },
  {
   "cell_type": "markdown",
   "id": "26821b47",
   "metadata": {},
   "source": [
    "Q5) What is the purpose of the with/as argument, and what other statement is it like?\n",
    "- The with statement in Python is used for resource management and exception handling. You'd most likely find it when working with file streams. For example, the statement ensures that the file stream process doesn't block other processes if an exception is raised, but terminates properly."
   ]
  },
  {
   "cell_type": "markdown",
   "id": "075d3a26",
   "metadata": {},
   "source": []
  }
 ],
 "metadata": {
  "kernelspec": {
   "display_name": "Python 3 (ipykernel)",
   "language": "python",
   "name": "python3"
  },
  "language_info": {
   "codemirror_mode": {
    "name": "ipython",
    "version": 3
   },
   "file_extension": ".py",
   "mimetype": "text/x-python",
   "name": "python",
   "nbconvert_exporter": "python",
   "pygments_lexer": "ipython3",
   "version": "3.9.7"
  }
 },
 "nbformat": 4,
 "nbformat_minor": 5
}
