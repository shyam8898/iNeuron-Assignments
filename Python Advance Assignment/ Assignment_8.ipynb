{
 "cells": [
  {
   "cell_type": "markdown",
   "id": "13a9421f",
   "metadata": {},
   "source": [
    "Q1) What are the two latest user-defined exception constraints in Python 3.X?\n",
    "\n",
    "Creating User-defined Exception\n",
    "- Programmers may name their own exceptions by creating a new exception class. Exceptions need to be derived from the Exception class, either directly or indirectly. Although not mandatory, most of the exceptions are named as names that end in “Error” similar to the naming of the standard exceptions in python.\n",
    "\n",
    "Deriving Error from Super Class Exception\n",
    "- Superclass Exceptions are created when a module needs to handle several distinct errors. One of the common ways of doing this is to create a base class for exceptions defined by that module. Further, various subclasses are defined to create specific exception classes for different error conditions."
   ]
  },
  {
   "cell_type": "markdown",
   "id": "360d8565",
   "metadata": {},
   "source": [
    "Q2) How are class-based exceptions that have been raised matched to handlers?\n",
    "\n",
    "Class-Based Exceptions\n",
    "- These exceptions are defined by exception classes, from which an exception object can be created when an exception is raised (if a handler uses the addition INTO in CATCH). A class-based exception can either cancel the current context or allow for a resume. Exceptions are raised using the statement RAISE EXCEPTION and handled using CATCH in a TRY control structure. Class-based exceptions can be raised in any procedures and can be further propagated by any procedures."
   ]
  },
  {
   "cell_type": "markdown",
   "id": "735b7fa9",
   "metadata": {},
   "source": [
    "Q3) Describe two methods for attaching context information to exception artefacts.\n",
    "- When an exception occurs during rule execution, the engine may throw an IlrUserRuntimeException instance. The IlrUserRuntimeException class provides the printRuleStackTrace()method. You can use this method to determine which rule artifact (such as function task, rule task, individual rule) was being evaluated when the exception occurred.\n",
    "- In particular, when the IlrExceptionHandler interface is implemented, the callback method handleException()receives an IlrUserRuntimeException object as argument, and the related stack trace can be printed by a call to the printRuleStackTrace method."
   ]
  },
  {
   "cell_type": "markdown",
   "id": "8de2cca4",
   "metadata": {},
   "source": [
    "Q4) Describe two methods for specifying the text of an exception object's error message.\n",
    "- An exception is an event that interrupts a running program. Examples of Python exceptions are ZeroDivisionError or IndexError.\n",
    "- Catching and printing an exception prevents the program from being interrupted while displaying the error that was caught during execution."
   ]
  },
  {
   "cell_type": "markdown",
   "id": "2f07b466",
   "metadata": {},
   "source": [
    "Q5) Why do you no longer use string-based exceptions?\n",
    "- With string-based exceptions, this would print something like\n",
    "- Sorry: ZeroDivisionError : integer division or modulo\n",
    "- hence we handlde the errors in except blocks which will not crash the code"
   ]
  },
  {
   "cell_type": "markdown",
   "id": "f19c2efd",
   "metadata": {},
   "source": []
  }
 ],
 "metadata": {
  "kernelspec": {
   "display_name": "Python 3 (ipykernel)",
   "language": "python",
   "name": "python3"
  },
  "language_info": {
   "codemirror_mode": {
    "name": "ipython",
    "version": 3
   },
   "file_extension": ".py",
   "mimetype": "text/x-python",
   "name": "python",
   "nbconvert_exporter": "python",
   "pygments_lexer": "ipython3",
   "version": "3.9.7"
  }
 },
 "nbformat": 4,
 "nbformat_minor": 5
}
