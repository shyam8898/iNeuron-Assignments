{
 "cells": [
  {
   "cell_type": "markdown",
   "id": "7eeaf2d4",
   "metadata": {},
   "source": [
    "Q1) Which two operator overloading methods can you use in your classes to support iteration?\n",
    "- __iter__() and __next__() are two operator overloading methods can you use in your classes to support iteration"
   ]
  },
  {
   "cell_type": "markdown",
   "id": "87b24524",
   "metadata": {},
   "source": [
    "Q2) In what contexts do the two operator overloading methods manage printing?\n",
    "- __str__(), __exit__() are the two operator overloading methods that manages printing"
   ]
  },
  {
   "cell_type": "markdown",
   "id": "b1945564",
   "metadata": {},
   "source": [
    "Q3) In a class, how do you intercept slice operations?\n",
    "- The __getitem__ method is used for accessing list items, array elements, dictionary entries etc. slice is a constructor in Python that creates slice object to represent set of indices that the range(start, stop, step) specifies. __getitem__ method can be implement in a class, and the behavior of slicing can be defined inside it.\n",
    "\n",
    "- Syntax:\n",
    "\n",
    "__getitem__(slice(start, stop, step))"
   ]
  },
  {
   "cell_type": "markdown",
   "id": "dd34d8e4",
   "metadata": {},
   "source": [
    "Q4) In a class, how do you capture in-place addition?\n",
    "- iadd() This function is used to assign the current value and add them"
   ]
  },
  {
   "cell_type": "markdown",
   "id": "a3845fb0",
   "metadata": {},
   "source": [
    "Q5) When is it appropriate to use operator overloading?\n",
    "- Operator overloading is mostly useful when you're making a new class that falls into an existing \"Abstract Base Class\" (ABC) -- indeed, many of the ABCs in standard library module collections rely on the presence of certain special methods (and special methods, one with names starting and ending with double underscores "
   ]
  },
  {
   "cell_type": "markdown",
   "id": "8a23f7f8",
   "metadata": {},
   "source": []
  }
 ],
 "metadata": {
  "kernelspec": {
   "display_name": "Python 3 (ipykernel)",
   "language": "python",
   "name": "python3"
  },
  "language_info": {
   "codemirror_mode": {
    "name": "ipython",
    "version": 3
   },
   "file_extension": ".py",
   "mimetype": "text/x-python",
   "name": "python",
   "nbconvert_exporter": "python",
   "pygments_lexer": "ipython3",
   "version": "3.9.7"
  }
 },
 "nbformat": 4,
 "nbformat_minor": 5
}
