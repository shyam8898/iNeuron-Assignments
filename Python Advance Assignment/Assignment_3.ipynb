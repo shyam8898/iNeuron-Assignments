{
 "cells": [
  {
   "cell_type": "markdown",
   "id": "9547dfd6",
   "metadata": {},
   "source": [
    "1) What is the concept of an abstract superclass?\n",
    "- Abstract Super Class. A common superclass for several subclasses. Factor up common behavior. Define the methods they all respond to. Methods that subclasses should implement are declared abstract."
   ]
  },
  {
   "cell_type": "markdown",
   "id": "7b519ab9",
   "metadata": {},
   "source": [
    "2) What happens when a class statement's top level contains a basic assignment statement?\n",
    "- Python assignment statements to assign objects to names. The target of an assignment statement is written on the left side of the equal sign (=), and the object on the right can be an arbitrary expression that computes an object.\n",
    "- Assignment creates object references instead of copying the objects.\n",
    "- Python creates a variable name the first time when they are assigned a value.\n",
    "- Names must be assigned before being referenced.\n",
    "- There are some operations that perform assignments implicitly."
   ]
  },
  {
   "cell_type": "markdown",
   "id": "7f755f6f",
   "metadata": {},
   "source": [
    "3) Why does a class need to manually call a superclass's __init__ method?\n",
    "- The main reason for always calling base class _init__ is that base class may typically create member variable and initialize them to defaults. So if you don't call base class init, none of that code would be executed and you would end up with base class that has no member variables"
   ]
  },
  {
   "cell_type": "markdown",
   "id": "d71e870a",
   "metadata": {},
   "source": [
    "4) How can you augment, instead of completely replacing, an inherited method?\n",
    "- To augment instead of completely replacing an inherited method, redefine it in a subclass but call back to the super class' version of the method manually from the new version of the method in the subclass.\n",
    "- That is, pass the self instance to the superclass' cersion of the method manually: superclass.method(self,....)"
   ]
  },
  {
   "cell_type": "markdown",
   "id": "0dbf184f",
   "metadata": {},
   "source": [
    "5) How is the local scope of a class different from that of a function?\n",
    "- A scope is a textual region of a Python program where a namespace is directly accessible. “Directly accessible” here means that an unqualified reference to a name attempts to find the name in the namespace. Although scopes are determined statically, they are used dynamically."
   ]
  },
  {
   "cell_type": "code",
   "execution_count": null,
   "id": "b93b9968",
   "metadata": {},
   "outputs": [],
   "source": []
  }
 ],
 "metadata": {
  "kernelspec": {
   "display_name": "Python 3 (ipykernel)",
   "language": "python",
   "name": "python3"
  },
  "language_info": {
   "codemirror_mode": {
    "name": "ipython",
    "version": 3
   },
   "file_extension": ".py",
   "mimetype": "text/x-python",
   "name": "python",
   "nbconvert_exporter": "python",
   "pygments_lexer": "ipython3",
   "version": "3.9.7"
  }
 },
 "nbformat": 4,
 "nbformat_minor": 5
}
