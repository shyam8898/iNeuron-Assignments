{
 "cells": [
  {
   "cell_type": "markdown",
   "id": "a8443bd3",
   "metadata": {},
   "source": [
    "Q1) Does assigning a value to a string's indexed character violate Python's string immutability?\n",
    "- Yes, it will violate Python's string immutability because once strings are declared and assigned by values then we cannot change it but yes we can reassign string values. "
   ]
  },
  {
   "cell_type": "markdown",
   "id": "c83f9d87",
   "metadata": {},
   "source": [
    "Q2) Does using the += operator to concatenate strings violate Python's string immutability? Why or why not?\n",
    "- Yes, it will violate Python's string immutability because after using operator += it will have different memory location as we cannot change strings in same memory addresses."
   ]
  },
  {
   "cell_type": "markdown",
   "id": "8f6fb24e",
   "metadata": {},
   "source": [
    "Q3) In Python, how many different ways are there to index a character?\n",
    "\n",
    "We can access characters in a String in Two ways :\n",
    "\n",
    "- Accessing Characters by Positive Index Number\n",
    "- Accessing Characters by Negative Index Number"
   ]
  },
  {
   "cell_type": "markdown",
   "id": "de7586a8",
   "metadata": {},
   "source": [
    "Q4. What is the relationship between indexing and slicing?\n",
    "- “Indexing” means referring to an element of an iterable by its position within the iterable. “Slicing” means getting a subset of elements from an iterable based on their indices."
   ]
  },
  {
   "cell_type": "markdown",
   "id": "193858d1",
   "metadata": {},
   "source": [
    "Q5) What is an indexed character's exact data type? What is the data form of a slicing-generated substring?\n",
    "- The data type of an indexed character will be str only\n",
    "- Slicing creates a new substring from the source string and original string remains unchanged. Hence the data type will be remain str only"
   ]
  },
  {
   "cell_type": "markdown",
   "id": "c784bb8d",
   "metadata": {},
   "source": [
    "Q6) What is the relationship between string and character \"types\" in Python?\n",
    "- In Python, Strings are arrays of bytes representing Unicode characters. However, Python does not have a character data type, a single character is simply a string with a length of 1. Square brackets can be used to access elements of the string"
   ]
  },
  {
   "cell_type": "markdown",
   "id": "f70b614f",
   "metadata": {},
   "source": [
    "Q7) Identify at least two operators and one method that allow you to combine one or more smaller strings to create a larger string.\n",
    "- Using '+' and '*' operators we can combine one or more smaller strings to create a larger string.\n",
    "- We can also use format() as well to combine multiple strings"
   ]
  },
  {
   "cell_type": "markdown",
   "id": "cbb0fc33",
   "metadata": {},
   "source": [
    "Q8) What is the benefit of first checking the target string with in or not in before using the index method to find a substring?\n",
    "- Benefit of first checking the target string with in or not in before using the index method to find a substring is it will tell whether the substring is there or not i.e True/False\n",
    "- After that we can use index method to get the index of specied sub string.\n"
   ]
  },
  {
   "cell_type": "markdown",
   "id": "763ce5db",
   "metadata": {},
   "source": [
    "Q9) Which operators and built-in string methods produce simple Boolean (true/false) results?\n",
    "- Comparison Operators produce simple Boolean (true/false) results\n",
    "- isalnum()\tReturns True if all characters in the string are alphanumeric\n",
    "- isalpha()\tReturns True if all characters in the string are in the alphabet\n",
    "- isascii()\tReturns True if all characters in the string are ascii characters"
   ]
  },
  {
   "cell_type": "markdown",
   "id": "5ded2328",
   "metadata": {},
   "source": []
  }
 ],
 "metadata": {
  "kernelspec": {
   "display_name": "Python 3 (ipykernel)",
   "language": "python",
   "name": "python3"
  },
  "language_info": {
   "codemirror_mode": {
    "name": "ipython",
    "version": 3
   },
   "file_extension": ".py",
   "mimetype": "text/x-python",
   "name": "python",
   "nbconvert_exporter": "python",
   "pygments_lexer": "ipython3",
   "version": "3.9.7"
  }
 },
 "nbformat": 4,
 "nbformat_minor": 5
}
