{
 "cells": [
  {
   "cell_type": "markdown",
   "id": "b42aa3e1",
   "metadata": {},
   "source": [
    "Q1) What is the concept of a metaclass?\n",
    "- In object-oriented programming, a metaclass is a class whose instances are classes.\n",
    "- Just as an ordinary class defines the behavior of certain objects, a metaclass defines the behavior of certain classes and their instances. Not all object-oriented programming languages support metaclasses."
   ]
  },
  {
   "cell_type": "markdown",
   "id": "82a7ea94",
   "metadata": {},
   "source": [
    "Q2) What is the best way to declare a class's metaclass?\n",
    "- Metaclasses are classes that inherit directly from type. The method that custom metaclasses should implement is the __new__ method. The arguments mentioned in the __new__  method of metaclasses reflects in the __new__ method of type class. It has four positional arguments. They are as follows:\n",
    "- The first argument is the metaclass itself.\n",
    "- The second argument is the class name.\n",
    "- The third argument is the  superclasses (in the form of tuple)\n",
    "- The fourth argument is the attributes of class (in the form of dictionary)"
   ]
  },
  {
   "cell_type": "markdown",
   "id": "33858a0e",
   "metadata": {},
   "source": [
    "Q3) How do class decorators overlap with metaclasses for handling classes?\n",
    "- Both are automatically triggered at the end of a class statement, we can use both class decorators and metaclasses to manage classes. Decorators rebind a class name to a callables result and metaclasses route class creation through a callable but both hooks can be used for similar purposes. To manage classes decorators simply augment and return the original class objects. Metaclasses augment a class after they create it. Decorators may have slight disadvantage in this role if a new class must be defined because a original class has already been created."
   ]
  },
  {
   "cell_type": "markdown",
   "id": "7965f1b8",
   "metadata": {},
   "source": [
    "Q4) How do class decorators overlap with metaclasses for handling instances?\n",
    "- Both are automatically triggered at the end of a class statement, we can use both class decorators and metaclasses to manage class instances by inserting a wrapper object to catch instance cfreation calls. Decorators may rebind the class name to a callable run on instance creation that retains the original class"
   ]
  },
  {
   "cell_type": "markdown",
   "id": "0627ce1f",
   "metadata": {},
   "source": []
  }
 ],
 "metadata": {
  "kernelspec": {
   "display_name": "Python 3 (ipykernel)",
   "language": "python",
   "name": "python3"
  },
  "language_info": {
   "codemirror_mode": {
    "name": "ipython",
    "version": 3
   },
   "file_extension": ".py",
   "mimetype": "text/x-python",
   "name": "python",
   "nbconvert_exporter": "python",
   "pygments_lexer": "ipython3",
   "version": "3.9.7"
  }
 },
 "nbformat": 4,
 "nbformat_minor": 5
}
