{
 "cells": [
  {
   "cell_type": "markdown",
   "id": "bd042f3a",
   "metadata": {},
   "source": [
    "Q1) In Python 3.X, what are the names and functions of string object types?\n",
    "- rstrip()\tReturns a right trim version of the string\n",
    "- split()\tSplits the string at the specified separator, and returns a list\n",
    "- splitlines()\tSplits the string at line breaks and returns a list\n",
    "- startswith()\tReturns true if the string starts with the specified value"
   ]
  },
  {
   "cell_type": "markdown",
   "id": "92a82ecd",
   "metadata": {},
   "source": [
    "Q2) How do the string forms in Python 3.X vary in terms of operations?\n",
    "- In Pyhton we do not use any data type to declalre a string we just assign value in quotes(single, double, tripple)\n",
    "- In terms of operations we use concatination to combine multiple strings"
   ]
  },
  {
   "cell_type": "markdown",
   "id": "cc972f31",
   "metadata": {},
   "source": [
    "Q3) In 3.X, how do you put non-ASCII Unicode characters in a string?\n",
    "- In order to use non-ASCII characters, Python requires explicit encoding and decoding of strings into Unicode.\n",
    "- Python scripts are assumed to be encoded in UTF-8, which is a standard Unicode encoding that supports non-ASCII characters."
   ]
  },
  {
   "cell_type": "markdown",
   "id": "18c047d0",
   "metadata": {},
   "source": [
    "Q4) In Python 3.X, what are the key differences between text-mode and binary-mode files?\n",
    "- The major difference between these two is that a text file contains textual information in the form of alphabets, digits and special characters or symbols. On the other hand, a binary file contains bytes or a compiled version of a text file"
   ]
  },
  {
   "cell_type": "markdown",
   "id": "ee8fd1da",
   "metadata": {},
   "source": [
    "Q5) How can you interpret a Unicode text file containing text encoded in a different encoding than your platform's default?\n",
    "- The key difference is that the default text processing behaviour in Python 3 aims to detect text encoding problems as early as possible - either when reading improperly encoded text (indicated by UnicodeDecodeError) or when being asked to write out a text sequence that cannot be correctly represented in the target encoding (indicated by UnicodeEncodeError)."
   ]
  },
  {
   "cell_type": "markdown",
   "id": "b128bb5f",
   "metadata": {},
   "source": [
    "Q6) What is the best way to make a Unicode text file in a particular encoding format?\n",
    "- Unicode is an encoding developed many years ago by some intelligent developers with the goal of mapping most of the world's written characters to a single encoding set.\n",
    "- The practical benefit of this aim is that any user in any location can view Chinese scripts, English alphanumeric characters, or Russian and Arabic text – all within the same file and without having to manually futz with the encoding (code page) for each specific text.\n",
    "- Prior to Unicode, you would probably have needed to select a different code page to see each script, if the script even had a code page and a font that supported it, and you wouldn't be able to view multiple languages / scripts within the same file at all."
   ]
  },
  {
   "cell_type": "markdown",
   "id": "2ba4b8fc",
   "metadata": {},
   "source": [
    "Q7) What qualifies ASCII text as a form of Unicode text?\n",
    "- The first 128 Unicode code points represent the ASCII characters, which means that any ASCII text is also a UTF-8 text. UCS-2 uses two bytes (16 bits) for each character but can only encode the first 65,536 code points, the so-called Basic Multilingual Plane (BMP).\n",
    "- Encoding formats: UTF-8; UTF-16; GB18030; L...\n",
    "- Standard: Unicode Standard\n",
    "- Alias(es): Universal Coded Character Set (UCS)\n"
   ]
  },
  {
   "cell_type": "markdown",
   "id": "36290cc4",
   "metadata": {},
   "source": [
    "Q8) How much of an effect does the change in string types in Python 3.X have on your code?\n",
    "- Strings are amongst the most popular types in Python. We can create them simply by enclosing characters in quotes. Python treats single quotes the same as double quotes. Creating strings is as simple as assigning a value to a variable.\n",
    "- Python does not support a character type; these are treated as strings of length one, thus also considered a substring\n",
    "- To access substrings, use the square brackets for slicing along with the index or indices to obtain your substring."
   ]
  },
  {
   "cell_type": "markdown",
   "id": "01860390",
   "metadata": {},
   "source": []
  }
 ],
 "metadata": {
  "kernelspec": {
   "display_name": "Python 3 (ipykernel)",
   "language": "python",
   "name": "python3"
  },
  "language_info": {
   "codemirror_mode": {
    "name": "ipython",
    "version": 3
   },
   "file_extension": ".py",
   "mimetype": "text/x-python",
   "name": "python",
   "nbconvert_exporter": "python",
   "pygments_lexer": "ipython3",
   "version": "3.9.7"
  }
 },
 "nbformat": 4,
 "nbformat_minor": 5
}
