{
 "cells": [
  {
   "cell_type": "markdown",
   "id": "8d7f7bdc",
   "metadata": {},
   "source": [
    "1) What are the new features added in Python 3.8 version?\n",
    "\n",
    "Positional-only parameters(/)\n",
    "- There is a new function parameter syntax “/” which indicates that some function parameters must be specified positionally and can’t be used as keyword arguments. The addition of “/” improves the language’s consistency and allows a robust API design.\n",
    "\n",
    "Assignment Expressions(:=)\n",
    "- This operator is used to assign and return a value in the same expression. This removes the need for initializing the variable upfront. The major benefit of this is it saves some lines of code. It is also known as “The Walrus Operator” due to its similarity to the eyes and tusks of a walrus.\n",
    "\n",
    "f-strings now support “=”\n",
    "- This string formatting mechanism is known as Literal String Interpolation or more commonly as F-strings (because of the leading f character preceding the string literal). The idea behind f-strings is to make string interpolation simpler. Python 3.8 allows the use of the above-discussed assignment operator and equal sign (=) inside the f-strings.\n",
    "For example, say we have two variables “a” and “b”, and we want to print “a + b” along with the result. Here we can use f-strings=.\n",
    "\n",
    "reversed() works with a dictionary\n",
    "- Unlike Python 3.7, now in Python 3.8, the built-in method “reversed()” can be used for accessing the elements in the reverse order of insertion."
   ]
  },
  {
   "cell_type": "markdown",
   "id": "7287ff73",
   "metadata": {},
   "source": [
    "2) What is monkey patching in Python?\n",
    "- In Python, the term monkey patch refers to dynamic (or run-time) modifications of a class or module. In Python, we can actually change the behavior of code at run-time."
   ]
  },
  {
   "cell_type": "markdown",
   "id": "c1edeb0f",
   "metadata": {},
   "source": [
    "3) What is the difference between a shallow copy and deep copy?\n",
    "- A shallow copy constructs a new compound object and then (to the extent possible) inserts references into it to the objects found in the original.\n",
    "- Shallow Copy reflects changes made to the new/copied object in the original object.\n",
    "- A deep copy constructs a new compound object and then, recursively, inserts copies into it of the objects found in the original.\n",
    "- Deep copy doesn’t reflect changes made to the new/copied object in the original object."
   ]
  },
  {
   "cell_type": "markdown",
   "id": "b115193c",
   "metadata": {},
   "source": [
    "4) What is the maximum possible length of an identifier?\n",
    "- Identifiers can be a combination of letters, numbers, special symbols, etc. But it must not extend 31 characters. Hence, the maximum possible length of an identifier is 31 characters."
   ]
  },
  {
   "cell_type": "markdown",
   "id": "dff14924",
   "metadata": {},
   "source": [
    "5) What is generator comprehension?\n",
    "- A generator comprehension is a single-line specification for defining a generator in Python. It is absolutely essential to learn this syntax in order to write simple and readable code.\n",
    "- Generator comprehensions are not the only method for defining generators in Python."
   ]
  },
  {
   "cell_type": "markdown",
   "id": "d31d28f0",
   "metadata": {},
   "source": []
  }
 ],
 "metadata": {
  "kernelspec": {
   "display_name": "Python 3 (ipykernel)",
   "language": "python",
   "name": "python3"
  },
  "language_info": {
   "codemirror_mode": {
    "name": "ipython",
    "version": 3
   },
   "file_extension": ".py",
   "mimetype": "text/x-python",
   "name": "python",
   "nbconvert_exporter": "python",
   "pygments_lexer": "ipython3",
   "version": "3.9.7"
  }
 },
 "nbformat": 4,
 "nbformat_minor": 5
}
