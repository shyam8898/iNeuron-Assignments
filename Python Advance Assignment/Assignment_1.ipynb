{
 "cells": [
  {
   "cell_type": "markdown",
   "id": "5df762c6",
   "metadata": {},
   "source": [
    "Q1) What is the purpose of Python's OOP?\n",
    "- In Python, object-oriented Programming (OOPs) is a programming paradigm that uses objects and classes in programming. It aims to implement real-world entities like inheritance, polymorphisms, encapsulation, etc"
   ]
  },
  {
   "cell_type": "markdown",
   "id": "9c61d645",
   "metadata": {},
   "source": [
    "Q2) Where does an inheritance search look for an attribute?\n",
    "- All of these objects are namespaces (packages of variables), and the inheritance search is simply a search of the tree from bottom to top looking for the lowest occurrence of an attribute name"
   ]
  },
  {
   "cell_type": "markdown",
   "id": "6e804489",
   "metadata": {},
   "source": [
    "Q3) How do you distinguish between a class object and an instance object?\n",
    "\n",
    "Class Object :\n",
    "- A class is a template for creating objects in program.\n",
    "- A class is a logical ent objectity.\n",
    "- A class does not allocate memory space when it is created.\n",
    "\n",
    "Instance Object :\n",
    "- The object is an instance of a class.\n",
    "- Object is a physical entity\n",
    "- Object allocates memory space whenever they are created."
   ]
  },
  {
   "cell_type": "markdown",
   "id": "36fbe656",
   "metadata": {},
   "source": [
    "Q4) What makes the first argument in a class’s method function special?\n",
    "- The first argument of every class method, including init, is always a reference to the current instance of the class. By convention, this argument is always named self. In the init method, self refers to the newly created object; in other class methods, it refers to the instance whose method was called."
   ]
  },
  {
   "cell_type": "markdown",
   "id": "06305fc9",
   "metadata": {},
   "source": [
    "Q5) What is the purpose of the __init__ method?\n",
    "- The __init__ method is the Python equivalent of the C++ constructor in an object-oriented approach. The __init__ function is called every time an object is created from a class. The __init__ method lets the class initialize the object's attributes and serves no other purpose. It is only used within classes"
   ]
  },
  {
   "cell_type": "markdown",
   "id": "f406c5a3",
   "metadata": {},
   "source": [
    "Q6) What is the process for creating a class instance?\n",
    "- When you create an object, you are creating an instance of a class, therefore \"instantiating\" a class. The new operator requires a single, postfix argument: a call to a constructor. The name of the constructor provides the name of the class to instantiate. The constructor initializes the new object."
   ]
  },
  {
   "cell_type": "markdown",
   "id": "8fa1e688",
   "metadata": {},
   "source": [
    "Q7) What is the process for creating a class?\n",
    "- Create a Class. To create a class, use the keyword class\n",
    "- Create Object. Now we can use the class named MyClass to create objects"
   ]
  },
  {
   "cell_type": "markdown",
   "id": "b14e4dce",
   "metadata": {},
   "source": [
    "Q8) How would you define the superclasses of a class?\n",
    "- A superclass is the class from which many subclasses can be created. The subclasses inherit the characteristics of a superclass. The superclass is also known as the parent class or base class."
   ]
  },
  {
   "cell_type": "code",
   "execution_count": null,
   "id": "408f8507",
   "metadata": {},
   "outputs": [],
   "source": []
  }
 ],
 "metadata": {
  "kernelspec": {
   "display_name": "Python 3 (ipykernel)",
   "language": "python",
   "name": "python3"
  },
  "language_info": {
   "codemirror_mode": {
    "name": "ipython",
    "version": 3
   },
   "file_extension": ".py",
   "mimetype": "text/x-python",
   "name": "python",
   "nbconvert_exporter": "python",
   "pygments_lexer": "ipython3",
   "version": "3.9.7"
  }
 },
 "nbformat": 4,
 "nbformat_minor": 5
}
