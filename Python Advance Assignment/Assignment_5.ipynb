{
 "cells": [
  {
   "cell_type": "markdown",
   "id": "9dcf31e6",
   "metadata": {},
   "source": [
    "Q1) What is the meaning of multiple inheritance?\n",
    "- Multiple inheritance means that a subclass can inherit from two or more superclasses. C++ allows multiple inheritance, but Java allows only single inheritance, that is, a subclass can inherit only one superclass."
   ]
  },
  {
   "cell_type": "markdown",
   "id": "24d768d4",
   "metadata": {},
   "source": [
    "Q2) What is the concept of delegation?\n",
    "- The delegation pattern is an object-oriented design pattern that allows object composition to achieve the same code reuse as inheritance."
   ]
  },
  {
   "cell_type": "markdown",
   "id": "e6c2ecee",
   "metadata": {},
   "source": [
    "Q3) What is the concept of composition?\n",
    "- Composition is a concept that models a has a relationship. It enables creating complex types by combining objects of other types. This means that a class Composite can contain an object of another class Component . This relationship means that a Composite has a Component "
   ]
  },
  {
   "cell_type": "markdown",
   "id": "9adfb220",
   "metadata": {},
   "source": [
    "Q4) What are bound methods and how do we use them?\n",
    "- A bound method is the one which is dependent on the instance of the class as the first argument. It passes the instance as the first argument which is used to access the variables and functions. In Python 3 and newer versions of python, all functions in the class are by default bound methods."
   ]
  },
  {
   "cell_type": "markdown",
   "id": "7ff2b98e",
   "metadata": {},
   "source": [
    "Q5) What is the purpose of pseudoprivate attributes?\n",
    "- This is sometimes misleadingly called private attributes really, it's just a way to localize a name to the class that created it, and does not prevent access by code outside the class. That is, this feature is mostly intended to avoid namespace collisions in instances, not to restrict access to names in general."
   ]
  },
  {
   "cell_type": "markdown",
   "id": "cf7e40ea",
   "metadata": {},
   "source": []
  }
 ],
 "metadata": {
  "kernelspec": {
   "display_name": "Python 3 (ipykernel)",
   "language": "python",
   "name": "python3"
  },
  "language_info": {
   "codemirror_mode": {
    "name": "ipython",
    "version": 3
   },
   "file_extension": ".py",
   "mimetype": "text/x-python",
   "name": "python",
   "nbconvert_exporter": "python",
   "pygments_lexer": "ipython3",
   "version": "3.9.7"
  }
 },
 "nbformat": 4,
 "nbformat_minor": 5
}
